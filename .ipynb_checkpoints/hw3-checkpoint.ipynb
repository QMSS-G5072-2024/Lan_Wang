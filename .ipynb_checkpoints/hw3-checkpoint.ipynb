{
 "cells": [
  {
   "cell_type": "markdown",
   "metadata": {},
   "source": [
    "# 1\n",
    "### a) answer is 1482.75\n",
    "```python\n",
    "def calculate_calories(age: int, weight: float, height: float, gender: str) -> float:\n",
    "    if gender == 'male':\n",
    "        return 10 * weight + 6.25 * height - 5 * age + 5\n",
    "    elif gender == 'female':\n",
    "        return 10 * weight + 6.25 * height - 5 * age - 161\n",
    "    else:\n",
    "        raise ValueError(\"Gender must be 'male' or 'female'\")\n",
    "\n",
    "bmr = calculate_calories(30, 70.0, 175.0, 'female')\n",
    "bmr\n",
    "\n",
    "```\n",
    "\n",
    "###  b) the answer is 2000\n",
    "```python\n",
    "def adjust_calories(bmr: float, goal: str = 'maintain') -> float:\n",
    "    if goal == 'lose':\n",
    "        return bmr - 500\n",
    "    elif goal == 'gain':\n",
    "        return bmr + 500\n",
    "    elif goal == 'maintain':\n",
    "        return bmr\n",
    "    else:\n",
    "        raise ValueError(\"Goal must be 'lose', 'maintain', or 'gain'\")\n",
    "\n",
    "adjusted_calories = adjust_calories(1500, 'gain')\n",
    "adjusted_calories\n",
    "```\n",
    "### c) the BMR for a 30-year-old female weighing 70 kg and 175 cm tall is calculated and is 1301.5\n",
    "```python\n",
    "def meal_plan_calculator(age: int, weight: float, height: float, gender: str, goal: str = 'maintain') -> dict:\n",
    "    bmr = calculate_calories(age, weight, height, gender)\n",
    "    adjusted_calories = adjust_calories(bmr, goal)\n",
    "    return {\n",
    "        'age': age,\n",
    "        'weight': weight,\n",
    "        'height': height,\n",
    "        'gender': gender,\n",
    "        'goal': goal,\n",
    "        'bmr': bmr,\n",
    "        'adjusted_calories': adjusted_calories\n",
    "    }\n",
    "\n",
    "meal_plan = meal_plan_calculator(40, 60.0, 170.0, 'female', 'maintain')\n",
    "meal_plan\n",
    "```\n",
    "# 2\n",
    "### a)\n",
    "```python\n",
    "def meal_plan_calculator_with_assertions(age: int, weight: float, height: float, gender: str, goal: str = 'maintain') -> dict:\n",
    "    assert age > 0, \"Age must be positive\"\n",
    "    assert weight > 0, \"Weight must be positive\"\n",
    "    assert height > 0, \"Height must be positive\"\n",
    "    assert gender in ['male', 'female'], \"Gender must be 'male' or 'female'\"\n",
    "    assert goal in ['lose', 'maintain', 'gain'], \"Goal must be 'lose', 'maintain', or 'gain'\"\n",
    "    \n",
    "    bmr = calculate_calories(age, weight, height, gender)\n",
    "    adjusted_calories = adjust_calories(bmr, goal)\n",
    "    return {\n",
    "        'age': age,\n",
    "        'weight': weight,\n",
    "        'height': height,\n",
    "        'gender': gender,\n",
    "        'goal': goal,\n",
    "        'bmr': bmr,\n",
    "        'adjusted_calories': adjusted_calories\n",
    "    }\n",
    "\n",
    "### for incorrect value\n",
    "\n",
    "try:\n",
    "    meal_plan_with_error = meal_plan_calculator_with_assertions(30, 70, -170, 'female', 'maintain')\n",
    "except AssertionError as e:\n",
    "    print(e)\n",
    "    \n",
    "```\n",
    "\n",
    "\n",
    "### b) try except\n",
    "\n",
    "```python\n",
    "def meal_plan_calculator_with_error_handling(age: int, weight: float, height: float, gender: str, goal: str = 'maintain') -> dict:\n",
    "    try:\n",
    "        if age <= 0 or weight <= 0 or height <= 0:\n",
    "            raise ValueError(\"Age, weight, and height must be positive numbers\")\n",
    "        if gender not in ['male', 'female']:\n",
    "            raise ValueError(\"Gender must be 'male' or 'female'\")\n",
    "        if goal not in ['lose', 'maintain', 'gain']:\n",
    "            raise ValueError(\"Goal must be 'lose', 'maintain', or 'gain'\")\n",
    "        \n",
    "        bmr = calculate_calories(age, weight, height, gender)\n",
    "        adjusted_calories = adjust_calories(bmr, goal)\n",
    "        return {\n",
    "            'age': age,\n",
    "            'weight': weight,\n",
    "            'height': height,\n",
    "            'gender': gender,\n",
    "            'goal': goal,\n",
    "            'bmr': bmr,\n",
    "            'adjusted_calories': adjusted_calories\n",
    "        }\n",
    "    except ValueError as e:\n",
    "        print(\"Please check your input values:\", e)\n",
    "\n",
    "#handling an unrecognized goal\n",
    "meal_plan_with_bulk_goal = meal_plan_calculator_with_error_handling(30, 70, 175, 'female', 'bulk')\n",
    "```\n",
    "\n",
    "# 3\n",
    "```python\n",
    "def calculate_macros(adjusted_calories: float) -> dict:\n",
    "    proteins = (0.30 * adjusted_calories) / 4\n",
    "    fats = (0.25 * adjusted_calories) / 9\n",
    "    carbohydrates = (0.45 * adjusted_calories) / 4\n",
    "    return {\n",
    "        'proteins': proteins,\n",
    "        'fats': fats,\n",
    "        'carbohydrates': carbohydrates\n",
    "    }\n",
    "\n",
    "### Example: Incorporating this into meal_plan_calculator\n",
    "def meal_plan_with_macros(age: int, weight: float, height: float, gender: str, goal: str = 'maintain') -> dict:\n",
    "    meal_plan = meal_plan_calculator(age, weight, height, gender, goal)\n",
    "    macros = calculate_macros(meal_plan['adjusted_calories'])\n",
    "    meal_plan['macros'] = macros\n",
    "    return meal_plan\n",
    "\n",
    "### show result\n",
    "meal_plan_with_macros_result = meal_plan_with_macros(35, 65.0, 160.0, 'female', 'maintain')\n",
    "meal_plan_with_macros_result\n",
    "```\n",
    "\n",
    "# 4\n",
    "```python\n",
    "def batch_calculator(clients: list) -> list:\n",
    "    return [meal_plan_with_macros(**client) for client in clients]\n",
    "\n",
    "#### Example list of clients\n",
    "clients = [\n",
    "    {\"age\": 30, \"weight\": 70.0, \"height\": 175.0, \"gender\": \"female\", \"goal\": \"maintain\"},\n",
    "    {\"age\": 40, \"weight\": 80.0, \"height\": 180.0, \"gender\": \"male\", \"goal\": \"lose\"},\n",
    "    {\"age\": 50, \"weight\": 90.0, \"height\": 185.0, \"gender\": \"female\", \"goal\": \"gain\"},\n",
    "    {\"age\": 60, \"weight\": 100.0, \"height\": 190.0, \"gender\": \"male\", \"goal\": \"maintain\"},\n",
    "]\n",
    "\n",
    "#### Batch calculation for all clients\n",
    "batch_result = batch_calculator(clients)\n",
    "batch_result\n",
    "```"
   ]
  },
  {
   "cell_type": "markdown",
   "metadata": {},
   "source": [
    "code"
   ]
  },
  {
   "cell_type": "code",
   "execution_count": 1,
   "metadata": {},
   "outputs": [
    {
     "data": {
      "text/plain": [
       "1482.75"
      ]
     },
     "execution_count": 1,
     "metadata": {},
     "output_type": "execute_result"
    }
   ],
   "source": [
    "def calculate_calories(age: int, weight: float, height: float, gender: str) -> float:\n",
    "    if gender == 'male':\n",
    "        return 10 * weight + 6.25 * height - 5 * age + 5\n",
    "    elif gender == 'female':\n",
    "        return 10 * weight + 6.25 * height - 5 * age - 161\n",
    "    else:\n",
    "        raise ValueError(\"Gender must be 'male' or 'female'\")\n",
    "\n",
    "bmr = calculate_calories(30, 70.0, 175.0, 'female')\n",
    "bmr"
   ]
  },
  {
   "cell_type": "code",
   "execution_count": 2,
   "metadata": {},
   "outputs": [
    {
     "data": {
      "text/plain": [
       "2000"
      ]
     },
     "execution_count": 2,
     "metadata": {},
     "output_type": "execute_result"
    }
   ],
   "source": [
    "def adjust_calories(bmr: float, goal: str = 'maintain') -> float:\n",
    "    if goal == 'lose':\n",
    "        return bmr - 500\n",
    "    elif goal == 'gain':\n",
    "        return bmr + 500\n",
    "    elif goal == 'maintain':\n",
    "        return bmr\n",
    "    else:\n",
    "        raise ValueError(\"Goal must be 'lose', 'maintain', or 'gain'\")\n",
    "\n",
    "adjusted_calories = adjust_calories(1500, 'gain')\n",
    "adjusted_calories"
   ]
  },
  {
   "cell_type": "code",
   "execution_count": 3,
   "metadata": {},
   "outputs": [
    {
     "data": {
      "text/plain": [
       "{'age': 40,\n",
       " 'weight': 60.0,\n",
       " 'height': 170.0,\n",
       " 'gender': 'female',\n",
       " 'goal': 'maintain',\n",
       " 'bmr': 1301.5,\n",
       " 'adjusted_calories': 1301.5}"
      ]
     },
     "execution_count": 3,
     "metadata": {},
     "output_type": "execute_result"
    }
   ],
   "source": [
    "def meal_plan_calculator(age: int, weight: float, height: float, gender: str, goal: str = 'maintain') -> dict:\n",
    "    bmr = calculate_calories(age, weight, height, gender)\n",
    "    adjusted_calories = adjust_calories(bmr, goal)\n",
    "    return {\n",
    "        'age': age,\n",
    "        'weight': weight,\n",
    "        'height': height,\n",
    "        'gender': gender,\n",
    "        'goal': goal,\n",
    "        'bmr': bmr,\n",
    "        'adjusted_calories': adjusted_calories\n",
    "    }\n",
    "\n",
    "meal_plan = meal_plan_calculator(40, 60.0, 170.0, 'female', 'maintain')\n",
    "meal_plan\n"
   ]
  },
  {
   "cell_type": "code",
   "execution_count": 4,
   "metadata": {},
   "outputs": [
    {
     "name": "stdout",
     "output_type": "stream",
     "text": [
      "Height must be positive\n"
     ]
    }
   ],
   "source": [
    "def meal_plan_calculator_with_assertions(age: int, weight: float, height: float, gender: str, goal: str = 'maintain') -> dict:\n",
    "    assert age > 0, \"Age must be positive\"\n",
    "    assert weight > 0, \"Weight must be positive\"\n",
    "    assert height > 0, \"Height must be positive\"\n",
    "    assert gender in ['male', 'female'], \"Gender must be 'male' or 'female'\"\n",
    "    assert goal in ['lose', 'maintain', 'gain'], \"Goal must be 'lose', 'maintain', or 'gain'\"\n",
    "\n",
    "    bmr = calculate_calories(age, weight, height, gender)\n",
    "    adjusted_calories = adjust_calories(bmr, goal)\n",
    "    return {\n",
    "        'age': age,\n",
    "        'weight': weight,\n",
    "        'height': height,\n",
    "        'gender': gender,\n",
    "        'goal': goal,\n",
    "        'bmr': bmr,\n",
    "        'adjusted_calories': adjusted_calories\n",
    "    }\n",
    "\n",
    "### for incorrect value\n",
    "\n",
    "try:\n",
    "    meal_plan_with_error = meal_plan_calculator_with_assertions(30, 70, -170, 'female', 'maintain')\n",
    "except AssertionError as e:\n",
    "    print(e)\n"
   ]
  },
  {
   "cell_type": "code",
   "execution_count": 5,
   "metadata": {},
   "outputs": [
    {
     "name": "stdout",
     "output_type": "stream",
     "text": [
      "Please check your input values: Goal must be 'lose', 'maintain', or 'gain'\n"
     ]
    }
   ],
   "source": [
    "def meal_plan_calculator_with_error_handling(age: int, weight: float, height: float, gender: str, goal: str = 'maintain') -> dict:\n",
    "    try:\n",
    "        if age <= 0 or weight <= 0 or height <= 0:\n",
    "            raise ValueError(\"Age, weight, and height must be positive numbers\")\n",
    "        if gender not in ['male', 'female']:\n",
    "            raise ValueError(\"Gender must be 'male' or 'female'\")\n",
    "        if goal not in ['lose', 'maintain', 'gain']:\n",
    "            raise ValueError(\"Goal must be 'lose', 'maintain', or 'gain'\")\n",
    "\n",
    "        bmr = calculate_calories(age, weight, height, gender)\n",
    "        adjusted_calories = adjust_calories(bmr, goal)\n",
    "        return {\n",
    "            'age': age,\n",
    "            'weight': weight,\n",
    "            'height': height,\n",
    "            'gender': gender,\n",
    "            'goal': goal,\n",
    "            'bmr': bmr,\n",
    "            'adjusted_calories': adjusted_calories\n",
    "        }\n",
    "    except ValueError as e:\n",
    "        print(\"Please check your input values:\", e)\n",
    "\n",
    "#handling an unrecognized goal\n",
    "meal_plan_with_bulk_goal = meal_plan_calculator_with_error_handling(30, 70, 175, 'female', 'bulk')"
   ]
  },
  {
   "cell_type": "code",
   "execution_count": 6,
   "metadata": {},
   "outputs": [
    {
     "data": {
      "text/plain": [
       "{'age': 35,\n",
       " 'weight': 65.0,\n",
       " 'height': 160.0,\n",
       " 'gender': 'female',\n",
       " 'goal': 'maintain',\n",
       " 'bmr': 1314.0,\n",
       " 'adjusted_calories': 1314.0,\n",
       " 'macros': {'proteins': 98.55,\n",
       "  'fats': 36.5,\n",
       "  'carbohydrates': 147.82500000000002}}"
      ]
     },
     "execution_count": 6,
     "metadata": {},
     "output_type": "execute_result"
    }
   ],
   "source": [
    "def calculate_macros(adjusted_calories: float) -> dict:\n",
    "    proteins = (0.30 * adjusted_calories) / 4\n",
    "    fats = (0.25 * adjusted_calories) / 9\n",
    "    carbohydrates = (0.45 * adjusted_calories) / 4\n",
    "    return {\n",
    "        'proteins': proteins,\n",
    "        'fats': fats,\n",
    "        'carbohydrates': carbohydrates\n",
    "    }\n",
    "\n",
    "### Example: Incorporating this into meal_plan_calculator\n",
    "def meal_plan_with_macros(age: int, weight: float, height: float, gender: str, goal: str = 'maintain') -> dict:\n",
    "    meal_plan = meal_plan_calculator(age, weight, height, gender, goal)\n",
    "    macros = calculate_macros(meal_plan['adjusted_calories'])\n",
    "    meal_plan['macros'] = macros\n",
    "    return meal_plan\n",
    "\n",
    "### show result\n",
    "meal_plan_with_macros_result = meal_plan_with_macros(35, 65.0, 160.0, 'female', 'maintain')\n",
    "meal_plan_with_macros_result\n"
   ]
  },
  {
   "cell_type": "code",
   "execution_count": 7,
   "metadata": {},
   "outputs": [
    {
     "data": {
      "text/plain": [
       "[{'age': 30,\n",
       "  'weight': 70.0,\n",
       "  'height': 175.0,\n",
       "  'gender': 'female',\n",
       "  'goal': 'maintain',\n",
       "  'bmr': 1482.75,\n",
       "  'adjusted_calories': 1482.75,\n",
       "  'macros': {'proteins': 111.20625,\n",
       "   'fats': 41.1875,\n",
       "   'carbohydrates': 166.80937500000002}},\n",
       " {'age': 40,\n",
       "  'weight': 80.0,\n",
       "  'height': 180.0,\n",
       "  'gender': 'male',\n",
       "  'goal': 'lose',\n",
       "  'bmr': 1730.0,\n",
       "  'adjusted_calories': 1230.0,\n",
       "  'macros': {'proteins': 92.25,\n",
       "   'fats': 34.166666666666664,\n",
       "   'carbohydrates': 138.375}},\n",
       " {'age': 50,\n",
       "  'weight': 90.0,\n",
       "  'height': 185.0,\n",
       "  'gender': 'female',\n",
       "  'goal': 'gain',\n",
       "  'bmr': 1645.25,\n",
       "  'adjusted_calories': 2145.25,\n",
       "  'macros': {'proteins': 160.89374999999998,\n",
       "   'fats': 59.59027777777778,\n",
       "   'carbohydrates': 241.34062500000002}},\n",
       " {'age': 60,\n",
       "  'weight': 100.0,\n",
       "  'height': 190.0,\n",
       "  'gender': 'male',\n",
       "  'goal': 'maintain',\n",
       "  'bmr': 1892.5,\n",
       "  'adjusted_calories': 1892.5,\n",
       "  'macros': {'proteins': 141.9375,\n",
       "   'fats': 52.56944444444444,\n",
       "   'carbohydrates': 212.90625}}]"
      ]
     },
     "execution_count": 7,
     "metadata": {},
     "output_type": "execute_result"
    }
   ],
   "source": [
    "def batch_calculator(clients: list) -> list:\n",
    "    return [meal_plan_with_macros(**client) for client in clients]\n",
    "\n",
    "#### Example list of clients\n",
    "clients = [\n",
    "    {\"age\": 30, \"weight\": 70.0, \"height\": 175.0, \"gender\": \"female\", \"goal\": \"maintain\"},\n",
    "    {\"age\": 40, \"weight\": 80.0, \"height\": 180.0, \"gender\": \"male\", \"goal\": \"lose\"},\n",
    "    {\"age\": 50, \"weight\": 90.0, \"height\": 185.0, \"gender\": \"female\", \"goal\": \"gain\"},\n",
    "    {\"age\": 60, \"weight\": 100.0, \"height\": 190.0, \"gender\": \"male\", \"goal\": \"maintain\"},\n",
    "]\n",
    "\n",
    "#### Batch calculation for all clients\n",
    "batch_result = batch_calculator(clients)\n",
    "batch_result"
   ]
  }
 ],
 "metadata": {
  "kernelspec": {
   "display_name": "Python 3",
   "language": "python",
   "name": "python3"
  },
  "language_info": {
   "codemirror_mode": {
    "name": "ipython",
    "version": 3
   },
   "file_extension": ".py",
   "mimetype": "text/x-python",
   "name": "python",
   "nbconvert_exporter": "python",
   "pygments_lexer": "ipython3",
   "version": "3.8.3"
  }
 },
 "nbformat": 4,
 "nbformat_minor": 4
}
