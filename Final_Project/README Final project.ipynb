{
 "cells": [
  {
   "cell_type": "markdown",
   "id": "c28e3012-4491-478d-b181-db35951d197b",
   "metadata": {},
   "source": [
    "# Final Project (can also refer to example.ipynb under docs)"
   ]
  },
  {
   "cell_type": "markdown",
   "id": "d8a841e3-4114-4250-bf28-a4a3835774ce",
   "metadata": {},
   "source": [
    "## Part1"
   ]
  },
  {
   "cell_type": "markdown",
   "id": "2adf7785-346f-4f4c-bf4c-c4bba5decde2",
   "metadata": {},
   "source": [
    "Here we first dealing with NASA's API"
   ]
  },
  {
   "cell_type": "code",
   "execution_count": 5,
   "id": "223bcb28-de5d-46a1-a253-4c693ceafde2",
   "metadata": {},
   "outputs": [],
   "source": [
    "import requests\n",
    "import pandas as pd\n",
    "from datetime import datetime, timedelta\n",
    "#Send a Simple GET request\n",
    "NASA_API_KEY = \"22HhA6JA83J17Yigaa5ZM3Tyzd4jsOP8vpFFdrct\"\n",
    "\n",
    "def fetch_neo_data(start_date, end_date):\n",
    "    \"\"\"\n",
    "    Fetch NEO data from NASA's API for the given date range (YYYY-MM-DD).\n",
    "    Returns a pandas DataFrame of parsed NEO data.\n",
    "    \"\"\"\n",
    "    url = (\n",
    "        \"https://api.nasa.gov/neo/rest/v1/feed\"\n",
    "        f\"?start_date={start_date}&end_date={end_date}&api_key={NASA_API_KEY}\"\n",
    "    )\n",
    "    response = requests.get(url)\n",
    "    if response.status_code != 200:\n",
    "        raise Exception(f\"Failed to retrieve data: {response.status_code}, {response.text}\")\n",
    "    \n",
    "    data = response.json()\n",
    "    neo_dict = data.get(\"near_earth_objects\", {})\n",
    "\n",
    "    all_neos = []\n",
    "    # Loop through each date key in the returned dictionary\n",
    "    for date_key, neos in neo_dict.items():\n",
    "        for neo in neos:\n",
    "            neo_id = neo.get(\"id\")\n",
    "            name = neo.get(\"name\")\n",
    "            is_hazardous = neo.get(\"is_potentially_hazardous_asteroid\", False)\n",
    "\n",
    "            approach_data = neo.get(\"close_approach_data\", [])\n",
    "            # We'll just take the first approach if there are multiple\n",
    "            if approach_data:\n",
    "                approach = approach_data[0]\n",
    "                close_approach_date = approach.get(\"close_approach_date_full\") or approach.get(\"close_approach_date\")\n",
    "                relative_velocity = approach.get(\"relative_velocity\", {}).get(\"kilometers_per_second\")\n",
    "                miss_distance = approach.get(\"miss_distance\", {}).get(\"kilometers\")\n",
    "                orbiting_body = approach.get(\"orbiting_body\")\n",
    "            else:\n",
    "                close_approach_date = None\n",
    "                relative_velocity = None\n",
    "                miss_distance = None\n",
    "                orbiting_body = None\n",
    "\n",
    "            estimated_diameter = neo.get(\"estimated_diameter\", {}).get(\"kilometers\", {})\n",
    "            est_dia_min = estimated_diameter.get(\"estimated_diameter_min\")\n",
    "            est_dia_max = estimated_diameter.get(\"estimated_diameter_max\")\n",
    "\n",
    "            all_neos.append({\n",
    "                \"neo_id\": neo_id,\n",
    "                \"name\": name,\n",
    "                \"is_potentially_hazardous\": is_hazardous,\n",
    "                \"close_approach_date\": close_approach_date,\n",
    "                \"relative_velocity_km_s\": relative_velocity,\n",
    "                \"miss_distance_km\": miss_distance,\n",
    "                \"orbiting_body\": orbiting_body,\n",
    "                \"estimated_diameter_min_km\": est_dia_min,\n",
    "                \"estimated_diameter_max_km\": est_dia_max\n",
    "            })\n",
    "    \n",
    "    df = pd.DataFrame(all_neos)\n",
    "    return df\n"
   ]
  },
  {
   "cell_type": "markdown",
   "id": "0ddfe579-824e-4ca1-ba78-d4a58a79a6ed",
   "metadata": {},
   "source": [
    "Parses the JSON response to extract fields such as the NEO’s name, hazard status, closest approach date, relative velocity, and estimated diameters.\n",
    "Converts all extracted records into a pandas DataFrame for easier analysis and manipulation."
   ]
  },
  {
   "cell_type": "code",
   "execution_count": 6,
   "id": "618f4358-801f-4bd7-9566-ef485d9b9b3e",
   "metadata": {},
   "outputs": [
    {
     "name": "stdout",
     "output_type": "stream",
     "text": [
      "Fetching NEO data from 2024-01-01 to 2024-01-07...\n",
      "Fetching NEO data from 2024-01-08 to 2024-01-14...\n",
      "Fetching NEO data from 2024-01-15 to 2024-01-21...\n",
      "Fetching NEO data from 2024-01-22 to 2024-01-28...\n",
      "Fetching NEO data from 2024-01-29 to 2024-02-04...\n",
      "Fetching NEO data from 2024-02-05 to 2024-02-11...\n",
      "Fetching NEO data from 2024-02-12 to 2024-02-18...\n",
      "Fetching NEO data from 2024-02-19 to 2024-02-25...\n",
      "Fetching NEO data from 2024-02-26 to 2024-03-03...\n",
      "Fetching NEO data from 2024-03-04 to 2024-03-10...\n",
      "Fetching NEO data from 2024-03-11 to 2024-03-17...\n",
      "Fetching NEO data from 2024-03-18 to 2024-03-24...\n",
      "Fetching NEO data from 2024-03-25 to 2024-03-31...\n",
      "Combined NEO DataFrame:\n",
      "    neo_id                name  is_potentially_hazardous close_approach_date  \\\n",
      "0  2415949  415949 (2001 XY10)                     False   2024-Jan-02 13:14   \n",
      "1  3160747         (2003 SR84)                     False   2024-Jan-02 22:45   \n",
      "2  3309828         (2005 YQ96)                      True   2024-Jan-02 19:42   \n",
      "3  3457842         (2009 HC21)                     False   2024-Jan-02 12:06   \n",
      "4  3553062         (2010 XA11)                     False   2024-Jan-02 15:31   \n",
      "\n",
      "  relative_velocity_km_s    miss_distance_km orbiting_body  \\\n",
      "0          15.8905264223  50452409.349026638         Earth   \n",
      "1          10.7191818981  19798169.933318188         Earth   \n",
      "2          15.6702817644  24984732.559194501         Earth   \n",
      "3           6.0808661718  73609796.924990823         Earth   \n",
      "4           8.7413828775  35275514.131770482         Earth   \n",
      "\n",
      "   estimated_diameter_min_km  estimated_diameter_max_km  \n",
      "0                   0.355267                   0.794401  \n",
      "1                   0.016771                   0.037501  \n",
      "2                   0.199781                   0.446725  \n",
      "3                   0.101054                   0.225964  \n",
      "4                   0.016016                   0.035813  \n",
      "Number of records: 1679\n"
     ]
    }
   ],
   "source": [
    "# Define the start and end of your multi-month period\n",
    "start_period = datetime(2024, 1, 1)\n",
    "end_period = datetime(2024, 3, 31)\n",
    "# The NEO feed endpoint allows a maximum of 7-day range per request.\n",
    "# We'll iterate week by week and fetch data.\n",
    "current_start = start_period\n",
    "all_dfs = []\n",
    "while current_start <= end_period:\n",
    "    current_end = current_start + timedelta(days=6)\n",
    "    if current_end > end_period:\n",
    "        current_end = end_period\n",
    "    \n",
    "    start_str = current_start.strftime(\"%Y-%m-%d\")\n",
    "    end_str = current_end.strftime(\"%Y-%m-%d\")\n",
    "    print(f\"Fetching NEO data from {start_str} to {end_str}...\")\n",
    "    week_df = fetch_neo_data(start_str, end_str)\n",
    "    all_dfs.append(week_df)\n",
    "    \n",
    "    current_start = current_end + timedelta(days=1)\n",
    "\n",
    "# Concatenate all weekly DataFrames into one\n",
    "full_neo_df = pd.concat(all_dfs, ignore_index=True)\n",
    "\n",
    "print(\"Combined NEO DataFrame:\")\n",
    "print(full_neo_df.head())\n",
    "print(\"Number of records:\", len(full_neo_df))"
   ]
  },
  {
   "cell_type": "markdown",
   "id": "7f29dca0-a7b2-415b-9481-df492edde4f5",
   "metadata": {},
   "source": [
    "## Part2 Filtering / Analysis  "
   ]
  },
  {
   "cell_type": "markdown",
   "id": "5f497f89-320a-4a29-8088-a299e12f4809",
   "metadata": {},
   "source": [
    "filter to show only potentially hazardous asteroids to link with following work\n",
    "and sort with 3 month date "
   ]
  },
  {
   "cell_type": "code",
   "execution_count": 7,
   "id": "d0a27c64-29ac-4212-83ea-fbf8078f0848",
   "metadata": {},
   "outputs": [
    {
     "name": "stdout",
     "output_type": "stream",
     "text": [
      "Hazardous NEOs:\n",
      "        neo_id                name  is_potentially_hazardous  \\\n",
      "2      3309828         (2005 YQ96)                      True   \n",
      "6      3608936         (2012 SD22)                      True   \n",
      "9      2613286  613286 (2005 YQ96)                      True   \n",
      "19     2669051  669051 (2012 SD22)                      True   \n",
      "31     2450293   450293 (2004 LV3)                      True   \n",
      "...        ...                 ...                       ...   \n",
      "1623   3616698          (2012 VO6)                      True   \n",
      "1627   3789420         (2017 VV14)                      True   \n",
      "1633  54427179         (2024 BM15)                      True   \n",
      "1639   2678715  678715 (2017 VV14)                      True   \n",
      "1660   3559839         (2011 EL51)                      True   \n",
      "\n",
      "     close_approach_date relative_velocity_km_s    miss_distance_km  \\\n",
      "2      2024-Jan-02 19:42          15.6702817644  24984732.559194501   \n",
      "6      2024-Jan-02 13:50          11.0227943004  24597313.435094098   \n",
      "9      2024-Jan-02 19:42          15.6702896005    24984795.0462248   \n",
      "19     2024-Jan-02 13:50          11.0227939464  24597309.695147348   \n",
      "31     2024-Jan-04 13:59          23.7178883208  37629939.100506025   \n",
      "...                  ...                    ...                 ...   \n",
      "1623   2024-Mar-29 21:57          17.4586765652  37612113.915904045   \n",
      "1627   2024-Mar-29 18:17          37.1502270163   49079286.04475055   \n",
      "1633   2024-Mar-29 03:28          11.9172172547  27562752.682824075   \n",
      "1639   2024-Mar-29 18:17          37.1502269504  49079285.999871189   \n",
      "1660   2024-Mar-31 19:24          15.3823557256  21968920.611959615   \n",
      "\n",
      "     orbiting_body  estimated_diameter_min_km  estimated_diameter_max_km  \n",
      "2            Earth                   0.199781                   0.446725  \n",
      "6            Earth                   0.259750                   0.580818  \n",
      "9            Earth                   0.198863                   0.444672  \n",
      "19           Earth                   0.256186                   0.572849  \n",
      "31           Earth                   0.455570                   1.018685  \n",
      "...            ...                        ...                        ...  \n",
      "1623         Earth                   0.136948                   0.306225  \n",
      "1627         Earth                   0.555335                   1.241767  \n",
      "1633         Earth                   0.158692                   0.354846  \n",
      "1639         Earth                   0.570893                   1.276556  \n",
      "1660         Earth                   0.110295                   0.246627  \n",
      "\n",
      "[100 rows x 9 columns]\n",
      "NEOs sorted by approach date:\n",
      "      neo_id                name  is_potentially_hazardous  \\\n",
      "640  2284422    284422 (2006 YD)                     False   \n",
      "644  3552665          (2010 WD9)                     False   \n",
      "659  2679657  679657 (2020 BE15)                     False   \n",
      "651  3989350         (2020 BE15)                     False   \n",
      "647  3759008         (2016 RL17)                     False   \n",
      "\n",
      "    close_approach_date relative_velocity_km_s    miss_distance_km  \\\n",
      "640   2024-Feb-01 02:07          29.5183100895  69098141.065436807   \n",
      "644   2024-Feb-01 02:27           5.5427536437  62930767.486034213   \n",
      "659   2024-Feb-01 03:59          28.5528690326  33476733.934309872   \n",
      "651   2024-Feb-01 03:59          28.5528690832  33476733.874470724   \n",
      "647   2024-Feb-01 06:41          15.2099370813  61652046.511401647   \n",
      "\n",
      "    orbiting_body  estimated_diameter_min_km  estimated_diameter_max_km  \n",
      "640         Earth                   0.888290                   1.986278  \n",
      "644         Earth                   0.047049                   0.105206  \n",
      "659         Earth                   0.260949                   0.583499  \n",
      "651         Earth                   0.260949                   0.583499  \n",
      "647         Earth                   0.012840                   0.028710  \n",
      "Largest NEO:\n",
      "neo_id                                   2001685\n",
      "name                         1685 Toro (1948 OA)\n",
      "is_potentially_hazardous                   False\n",
      "close_approach_date            2024-Jan-20 20:46\n",
      "relative_velocity_km_s             16.1740891915\n",
      "miss_distance_km              19905934.838383081\n",
      "orbiting_body                              Earth\n",
      "estimated_diameter_min_km               3.703011\n",
      "estimated_diameter_max_km               8.280184\n",
      "Name: 346, dtype: object\n"
     ]
    }
   ],
   "source": [
    "# Filter to show only potentially hazardous asteroids\n",
    "hazardous_df = full_neo_df[full_neo_df[\"is_potentially_hazardous\"] == True]\n",
    "print(\"Hazardous NEOs:\")\n",
    "print(hazardous_df)\n",
    "\n",
    "# Sort by closest approach date\n",
    "df_sorted = full_neo_df.sort_values(by=\"close_approach_date\")\n",
    "print(\"NEOs sorted by approach date:\")\n",
    "print(df_sorted.head())\n",
    "\n",
    "# Find the largest NEO (by max estimated diameter)\n",
    "largest_neo = full_neo_df.loc[full_neo_df[\"estimated_diameter_max_km\"].idxmax()]\n",
    "print(\"Largest NEO:\")\n",
    "print(largest_neo)\n"
   ]
  },
  {
   "cell_type": "markdown",
   "id": "f90fce65-6404-421d-a917-08313b0006fc",
   "metadata": {},
   "source": [
    "#### cleaning data(so, no missing value)"
   ]
  },
  {
   "cell_type": "code",
   "execution_count": 10,
   "id": "b7bb97d1-6e2f-4947-8d12-9060bb9fadd3",
   "metadata": {},
   "outputs": [
    {
     "name": "stdout",
     "output_type": "stream",
     "text": [
      "neo_id                       0\n",
      "name                         0\n",
      "is_potentially_hazardous     0\n",
      "close_approach_date          0\n",
      "relative_velocity_km_s       0\n",
      "miss_distance_km             0\n",
      "orbiting_body                0\n",
      "estimated_diameter_min_km    0\n",
      "estimated_diameter_max_km    0\n",
      "dtype: int64\n"
     ]
    }
   ],
   "source": [
    "print(full_neo_df.isna().sum())"
   ]
  },
  {
   "cell_type": "markdown",
   "id": "dc66c965-7244-4b5c-bb37-97d2a6056acc",
   "metadata": {},
   "source": [
    "#### Histogram of estimated the max diameters"
   ]
  },
  {
   "cell_type": "code",
   "execution_count": 11,
   "id": "69961432-5c0a-426b-9309-6a53e9fa997d",
   "metadata": {},
   "outputs": [
    {
     "data": {
      "image/png": "[encoded data removed]",
      "text/plain": [
       "<Figure size 640x480 with 1 Axes>"
      ]
     },
     "metadata": {},
     "output_type": "display_data"
    }
   ],
   "source": [
    "import matplotlib.pyplot as plt\n",
    "# Histogram of estimated max diameters\n",
    "full_neo_df[\"estimated_diameter_max_km\"].hist(bins=100)\n",
    "plt.xlabel(\"Max Estimated Diameter (km)\")\n",
    "plt.ylabel(\"Count of NEOs\")\n",
    "plt.title(\"Distribution of NEO Sizes\")\n",
    "plt.show()"
   ]
  },
  {
   "cell_type": "markdown",
   "id": "4077779d-cd05-4c47-bc6c-13c7505a3ac5",
   "metadata": {},
   "source": [
    "## Part3 Integrate Launch Library 2 Data \n",
    "Queries the Launch Library 2 API for launch event data within a specified date range.\n",
    "\n",
    "Filter by parameters of interest (e.g., launch provider, orbit type).\n",
    "\n",
    "Convert the returned JSON into a structured pandas DataFrame.\n",
    "\n",
    "Prepares the data to be integrated later with the NEO data (e.g., includes fields like launch date, provider name, and launch site name)."
   ]
  },
  {
   "cell_type": "code",
   "execution_count": 10,
   "id": "b01cc05b-6558-4cbf-b2a3-2a36e323b8ba",
   "metadata": {},
   "outputs": [],
   "source": [
    "def fetch_all_launches(base_url, params):\n",
    "    \"\"\"\n",
    "    Fetch all launch data from Launch Library 2 API within given parameters.\n",
    "    This function handles pagination automatically.\n",
    "    \"\"\"\n",
    "    all_launches = []\n",
    "    url = base_url\n",
    "    current_params = params.copy()\n",
    "    \n",
    "    while url:\n",
    "        response = requests.get(url, params=current_params)\n",
    "        if response.status_code == 200:\n",
    "            data = response.json()\n",
    "            launches = data.get(\"results\", [])\n",
    "            all_launches.extend(launches)\n",
    "            \n",
    "            next_url = data.get(\"next\")\n",
    "            if next_url:\n",
    "                # 'next_url' is a full URL; set params to None for subsequent requests\n",
    "                url = next_url\n",
    "                current_params = None\n",
    "            else:\n",
    "                # No more pages\n",
    "                break\n",
    "        else:\n",
    "            raise Exception(f\"Failed to retrieve data. Status code: {response.status_code}, Response: {response.text}\")\n",
    "    \n",
    "    return all_launches"
   ]
  },
  {
   "cell_type": "code",
   "execution_count": 11,
   "id": "9f054255-e42e-4fe8-84d8-05e833be046c",
   "metadata": {},
   "outputs": [],
   "source": [
    "def parse_launch_data(launches):\n",
    "    \"\"\"\n",
    "    Parse the raw launch data (list of launches) into a pandas DataFrame.\n",
    "    Extract relevant fields such as launch_id, name, status, window_start, window_end,\n",
    "    provider, launch_site_name, launch_site_location, and orbit.\n",
    "    \"\"\"\n",
    "    records = []\n",
    "    for launch in launches:\n",
    "        launch_id = launch.get(\"id\")\n",
    "        name = launch.get(\"name\")\n",
    "        status = launch.get(\"status\", {}).get(\"name\")\n",
    "        window_start = launch.get(\"window_start\")\n",
    "        window_end = launch.get(\"window_end\")\n",
    "        provider = launch.get(\"launch_service_provider\", {}).get(\"name\")\n",
    "\n",
    "        pad = launch.get(\"pad\", {})\n",
    "        launch_site_name = pad.get(\"name\")\n",
    "        launch_site_location = pad.get(\"location\", {}).get(\"name\")\n",
    "\n",
    "        # Orbit info might be in mission key\n",
    "        orbit = None\n",
    "        mission = launch.get(\"mission\", {})\n",
    "        if isinstance(mission, dict):\n",
    "            orbit = mission.get(\"orbit\")\n",
    "\n",
    "        records.append({\n",
    "            \"launch_id\": launch_id,\n",
    "            \"name\": name,\n",
    "            \"status\": status,\n",
    "            \"window_start\": window_start,\n",
    "            \"window_end\": window_end,\n",
    "            \"provider\": provider,\n",
    "            \"launch_site_name\": launch_site_name,\n",
    "            \"launch_site_location\": launch_site_location,\n",
    "            \"orbit\": orbit\n",
    "        })\n",
    "    \n",
    "    df = pd.DataFrame(records)\n",
    "    return df"
   ]
  },
  {
   "cell_type": "code",
   "execution_count": 12,
   "id": "ae4637af-eb69-4a9b-be7b-798d0f55dc27",
   "metadata": {},
   "outputs": [
    {
     "name": "stdout",
     "output_type": "stream",
     "text": [
      "Combined Launch DataFrame:\n",
      "                              launch_id  \\\n",
      "0  2a29a629-f28c-4fc4-8e5f-48e959e0a5b1   \n",
      "1  161dbc75-e973-44f7-a346-6254aec99900   \n",
      "2  1d374bef-0e4e-4b3f-b45b-25c14aaa2b0e   \n",
      "3  7ec40d08-8efd-470a-907e-bb9d34fac5af   \n",
      "4  60634a63-633d-42b3-b87e-710e7e0d4282   \n",
      "\n",
      "                                     name             status  \\\n",
      "0                        PSLV-DL | XPoSat  Launch Successful   \n",
      "1   Falcon 9 Block 5 | Starlink Group 7-9  Launch Successful   \n",
      "2              Falcon 9 Block 5 | Ovzon-3  Launch Successful   \n",
      "3            Kuaizhou-1A | Tianmu-1 15-18  Launch Successful   \n",
      "4  Falcon 9 Block 5 | Starlink Group 6-35  Launch Successful   \n",
      "\n",
      "           window_start            window_end  \\\n",
      "0  2024-01-01T03:40:00Z  2024-01-01T03:40:00Z   \n",
      "1  2024-01-03T02:13:00Z  2024-01-03T06:02:10Z   \n",
      "2  2024-01-03T23:04:00Z  2024-01-03T23:14:00Z   \n",
      "3  2024-01-05T11:09:00Z  2024-01-05T11:32:00Z   \n",
      "4  2024-01-07T21:00:40Z  2024-01-08T00:35:10Z   \n",
      "\n",
      "                             provider  \\\n",
      "0  Indian Space Research Organization   \n",
      "1                              SpaceX   \n",
      "2                              SpaceX   \n",
      "3                              ExPace   \n",
      "4                              SpaceX   \n",
      "\n",
      "                              launch_site_name  \\\n",
      "0  Satish Dhawan Space Centre First Launch Pad   \n",
      "1                      Space Launch Complex 4E   \n",
      "2                      Space Launch Complex 40   \n",
      "3                              Launch Area 95A   \n",
      "4                      Space Launch Complex 40   \n",
      "\n",
      "                                launch_site_location  \\\n",
      "0                  Satish Dhawan Space Centre, India   \n",
      "1                            Vandenberg SFB, CA, USA   \n",
      "2                        Cape Canaveral SFS, FL, USA   \n",
      "3  Jiuquan Satellite Launch Center, People's Repu...   \n",
      "4                        Cape Canaveral SFS, FL, USA   \n",
      "\n",
      "                                               orbit  \n",
      "0  {'id': 8, 'name': 'Low Earth Orbit', 'abbrev':...  \n",
      "1  {'id': 8, 'name': 'Low Earth Orbit', 'abbrev':...  \n",
      "2  {'id': 2, 'name': 'Geostationary Transfer Orbi...  \n",
      "3  {'id': 17, 'name': 'Sun-Synchronous Orbit', 'a...  \n",
      "4  {'id': 8, 'name': 'Low Earth Orbit', 'abbrev':...  \n",
      "Number of launch records: 61\n"
     ]
    }
   ],
   "source": [
    "# Fetching launches from January 1 to March 31, 2024\n",
    "base_url = \"https://ll.thespacedevs.com/2.2.0/launch/\"\n",
    "params = {\n",
    "    \"window_start__gte\": \"2024-01-01\",\n",
    "    \"window_end__lte\": \"2024-03-31\",\n",
    "    \"limit\": 1000\n",
    "}\n",
    "\n",
    "all_launches = fetch_all_launches(base_url, params)\n",
    "full_launch_df = parse_launch_data(all_launches)\n",
    "\n",
    "print(\"Combined Launch DataFrame:\")\n",
    "print(full_launch_df.head())\n",
    "print(\"Number of launch records:\", len(full_launch_df))\n"
   ]
  },
  {
   "cell_type": "code",
   "execution_count": 13,
   "id": "84361f68-2c06-4909-b230-89bf0713c15f",
   "metadata": {},
   "outputs": [
    {
     "name": "stdout",
     "output_type": "stream",
     "text": [
      "<class 'pandas.core.frame.DataFrame'>\n",
      "RangeIndex: 61 entries, 0 to 60\n",
      "Data columns (total 9 columns):\n",
      " #   Column                Non-Null Count  Dtype \n",
      "---  ------                --------------  ----- \n",
      " 0   launch_id             61 non-null     object\n",
      " 1   name                  61 non-null     object\n",
      " 2   status                61 non-null     object\n",
      " 3   window_start          61 non-null     object\n",
      " 4   window_end            61 non-null     object\n",
      " 5   provider              61 non-null     object\n",
      " 6   launch_site_name      61 non-null     object\n",
      " 7   launch_site_location  61 non-null     object\n",
      " 8   orbit                 61 non-null     object\n",
      "dtypes: object(9)\n",
      "memory usage: 4.4+ KB\n",
      "None\n",
      "launch_id               0\n",
      "name                    0\n",
      "status                  0\n",
      "window_start            0\n",
      "window_end              0\n",
      "provider                0\n",
      "launch_site_name        0\n",
      "launch_site_location    0\n",
      "orbit                   0\n",
      "dtype: int64\n"
     ]
    }
   ],
   "source": [
    "#clean data nice!\n",
    "print(full_launch_df.info())\n",
    "print(full_launch_df.isna().sum())"
   ]
  },
  {
   "cell_type": "code",
   "execution_count": 15,
   "id": "16cbb240-cb5a-46ef-a690-8aa9f0b9fcc5",
   "metadata": {},
   "outputs": [
    {
     "name": "stdout",
     "output_type": "stream",
     "text": [
      "Data saved to full_launch_df.csv\n"
     ]
    }
   ],
   "source": [
    "# Save to CSV\n",
    "full_launch_df.to_csv(\"full_launch_df.csv\", index=False)\n",
    "print(\"Data saved to full_launch_df.csv\")"
   ]
  },
  {
   "cell_type": "markdown",
   "id": "88efb3b6-5791-47b8-8dd4-436566d02bb7",
   "metadata": {},
   "source": [
    "## Part4 Wikipedia’s \"List of rocket launch sites\n",
    "Retrieve the HTML from Wikipedia’s \"List of rocket launch sites\" page.\n",
    "\n",
    "Use BeautifulSoup to parse the page.\n",
    "\n",
    "Identify and extract data from a relevant table (e.g., a table listing launch sites).\n",
    "\n",
    "Convert the extracted data into a pandas DataFrame for further use."
   ]
  },
  {
   "cell_type": "code",
   "execution_count": 16,
   "id": "d904999e-27ff-456f-8c99-9655fadfebe0",
   "metadata": {},
   "outputs": [
    {
     "name": "stdout",
     "output_type": "stream",
     "text": [
      "Launch Sites DataFrame:\n",
      "          Country                                           Location  \\\n",
      "0  French Algeria  Centre interarmées d'essais d'engins spéciaux ...   \n",
      "1         Algeria                                            Reggane   \n",
      "2           Zaire     Shaba North, Kapani Tonneo OTRAG Launch Center   \n",
      "3           Egypt  Jabal Hamzah ballistic missile test and launch...   \n",
      "4           Kenya           Broglio Space Centre (San Marco),Malindi   \n",
      "\n",
      "                                         Coordinates Operational date  \\\n",
      "0  31°05′58″N2°50′09″W﻿ / ﻿31.09951°N 2.83581°W﻿ ...        1947–1967   \n",
      "1  26°43′08″N0°16′37″E﻿ / ﻿26.71895°N 0.27691°E﻿ ...        1961–1965   \n",
      "2  7°55′33″S28°31′40″E﻿ / ﻿7.92587°S 28.52766°E﻿ ...        1975–1979   \n",
      "3  30°07′32.7″N30°36′18.5″E﻿ / ﻿30.125750°N 30.60...        1962–1973   \n",
      "4  2°56′27″S40°12′48″E﻿ / ﻿2.94080°S 40.21340°E﻿ ...        1964–1988   \n",
      "\n",
      "  Number of rocket launches Heaviest rocket launched  \\\n",
      "0                       230                18,000 kg   \n",
      "1                        10                            \n",
      "2                         3                            \n",
      "3                         6                            \n",
      "4                        27                20,000 kg   \n",
      "\n",
      "  Highest achieved altitude                                              Notes  \n",
      "0                   Orbital                             Operated by France.[1]  \n",
      "1                                                                               \n",
      "2                    <50 km                             GermanOTRAGrockets.[2]  \n",
      "3                                      TestingSRBMsAl Zafir and Al Kahir[3][4]  \n",
      "4                   Orbital  Scoutrockets, operated byASIandSapienza Univer...  \n"
     ]
    }
   ],
   "source": [
    "from bs4 import BeautifulSoup\n",
    "import pandas as pd\n",
    "# URL of the Wikipedia page\n",
    "url = \"https://en.wikipedia.org/wiki/List_of_rocket_launch_sites\"\n",
    "# Expected columns in the tables of interest\n",
    "expected_columns = [\n",
    "    \"Country\",\n",
    "    \"Location\",\n",
    "    \"Coordinates\",\n",
    "    \"Operational date\",\n",
    "    \"Number of rocket launches\",\n",
    "    \"Heaviest rocket launched\",\n",
    "    \"Highest achieved altitude\",\n",
    "    \"Notes\"\n",
    "]\n",
    "\n",
    "# Fetch the page content\n",
    "response = requests.get(url)\n",
    "if response.status_code != 200:\n",
    "    raise Exception(f\"Failed to retrieve page. Status code: {response.status_code}\")\n",
    "\n",
    "# Parse the page with BeautifulSoup\n",
    "soup = BeautifulSoup(response.text, \"html.parser\")\n",
    "\n",
    "# Find all tables with class 'wikitable'\n",
    "all_tables = soup.find_all(\"table\", class_=\"wikitable\")\n",
    "\n",
    "df_list = []\n",
    "for table in all_tables:\n",
    "    # Extract header cells from the first row of the table\n",
    "    header_row = table.find(\"tr\")\n",
    "    if not header_row:\n",
    "        continue\n",
    "    headers = [th.get_text(strip=True) for th in header_row.find_all(\"th\")]\n",
    "    \n",
    "    # Check if this table has at least a 'Country' and 'Coordinates' column\n",
    "    if \"Country\" in headers and \"Coordinates\" in headers:\n",
    "        # Find all rows except the header\n",
    "        rows = table.find_all(\"tr\")[1:]\n",
    "        \n",
    "        table_data = []\n",
    "        for tr in rows:\n",
    "            tds = tr.find_all([\"td\", \"th\"])\n",
    "            row_data = [td.get_text(strip=True) for td in tds]           \n",
    "            # Only consider rows that have at least the number of expected columns\n",
    "            # Some rows might have fewer columns due to notes or formatting\n",
    "            if len(row_data) >= len(expected_columns):\n",
    "                # Slice the row to match the expected columns length if there are extra columns\n",
    "                row_data = row_data[:len(expected_columns)]\n",
    "                table_data.append(row_data)\n",
    "        \n",
    "        if table_data:\n",
    "            region_df = pd.DataFrame(table_data, columns=expected_columns)\n",
    "            df_list.append(region_df)\n",
    "\n",
    "if not df_list:\n",
    "    raise Exception(\"No suitable launch site tables found.\")\n",
    "\n",
    "# Combine all DataFrames from different tables\n",
    "launch_sites_df = pd.concat(df_list, ignore_index=True)\n",
    "\n",
    "print(\"Launch Sites DataFrame:\")\n",
    "print(launch_sites_df.head())"
   ]
  },
  {
   "cell_type": "markdown",
   "id": "f92b54db-18fe-42ca-afae-ee03b6b0b738",
   "metadata": {},
   "source": [
    "#### we found there is a mismatch later, so add it here, no india value match later"
   ]
  },
  {
   "cell_type": "code",
   "execution_count": 17,
   "id": "90e43053-9ac0-40f5-9dd0-d6f18e97cc14",
   "metadata": {},
   "outputs": [],
   "source": [
    "#we found there is a mismatch later, so add it here\n",
    "new_site = {\n",
    "    \"Country\": \"India\",\n",
    "    \"Location\": \"Satish Dhawan Space Centre, Sriharikota, Andhra Pradesh, India\",\n",
    "    \"Coordinates\": \"13°43′12″N 80°13′48″E\",  # Example coordinates, please verify accuracy\n",
    "    \"Operational date\": \"1971–\",\n",
    "    \"Number of rocket launches\": \"200+\",\n",
    "    \"Heaviest rocket launched\": \"GSLV Mk III (~6400 kg to GTO)\",\n",
    "    \"Highest achieved altitude\": \"Orbital\",\n",
    "    \"Notes\": \"India's primary orbital launch center.\"\n",
    "}\n",
    "\n",
    "# Convert to a DataFrame and concatenate\n",
    "new_site_df = pd.DataFrame([new_site])\n",
    "new_site_df[\"Location_clean\"] = new_site_df[\"Location\"].str.strip().str.lower()\n",
    "\n",
    "# Append this new site to your existing launch_sites_df\n",
    "launch_sites_df = pd.concat([launch_sites_df, new_site_df], ignore_index=True)\n",
    "# Now launch_sites_df includes the Indian site\n",
    "correct_indian_site = \"satish dhawan space centre, sriharikota, andhra pradesh, india\"\n"
   ]
  },
  {
   "cell_type": "code",
   "execution_count": 18,
   "id": "e1d06de9-ef36-4a51-b7dc-cd0535c58d93",
   "metadata": {},
   "outputs": [
    {
     "name": "stdout",
     "output_type": "stream",
     "text": [
      "<class 'pandas.core.frame.DataFrame'>\n",
      "RangeIndex: 88 entries, 0 to 87\n",
      "Data columns (total 9 columns):\n",
      " #   Column                     Non-Null Count  Dtype \n",
      "---  ------                     --------------  ----- \n",
      " 0   Country                    88 non-null     object\n",
      " 1   Location                   88 non-null     object\n",
      " 2   Coordinates                88 non-null     object\n",
      " 3   Operational date           88 non-null     object\n",
      " 4   Number of rocket launches  88 non-null     object\n",
      " 5   Heaviest rocket launched   88 non-null     object\n",
      " 6   Highest achieved altitude  88 non-null     object\n",
      " 7   Notes                      88 non-null     object\n",
      " 8   Location_clean             1 non-null      object\n",
      "dtypes: object(9)\n",
      "memory usage: 6.3+ KB\n",
      "None\n",
      "Country                       0\n",
      "Location                      0\n",
      "Coordinates                   0\n",
      "Operational date              0\n",
      "Number of rocket launches     0\n",
      "Heaviest rocket launched      0\n",
      "Highest achieved altitude     0\n",
      "Notes                         0\n",
      "Location_clean               87\n",
      "dtype: int64\n"
     ]
    }
   ],
   "source": [
    "#clean\n",
    "print(launch_sites_df.info())\n",
    "print(launch_sites_df.isna().sum())"
   ]
  },
  {
   "cell_type": "code",
   "execution_count": 19,
   "id": "96dbc24d-e30e-471c-86d3-03d7c9ccfa80",
   "metadata": {},
   "outputs": [
    {
     "name": "stdout",
     "output_type": "stream",
     "text": [
      "Launch DataFrame columns: Index(['launch_id', 'name', 'status', 'window_start', 'window_end', 'provider',\n",
      "       'launch_site_name', 'launch_site_location', 'orbit'],\n",
      "      dtype='object')\n",
      "Launch Sites DataFrame columns: Index(['Country', 'Location', 'Coordinates', 'Operational date',\n",
      "       'Number of rocket launches', 'Heaviest rocket launched',\n",
      "       'Highest achieved altitude', 'Notes', 'Location_clean'],\n",
      "      dtype='object')\n"
     ]
    }
   ],
   "source": [
    "from rapidfuzz import process, fuzz\n",
    "# Inspect Columns\n",
    "print(\"Launch DataFrame columns:\", full_launch_df.columns)\n",
    "print(\"Launch Sites DataFrame columns:\", launch_sites_df.columns)\n",
    "# launch_df has: 'launch_site_name', 'launch_site_location'\n",
    "# launch_sites_df has: 'Country', 'Location', 'Coordinates', ..\n"
   ]
  },
  {
   "cell_type": "code",
   "execution_count": 20,
   "id": "d8a13369-0332-4777-a994-b49720fb17fd",
   "metadata": {},
   "outputs": [
    {
     "name": "stdout",
     "output_type": "stream",
     "text": [
      "Merged DataFrame (direct attempt):\n",
      "                              launch_id  \\\n",
      "0  2a29a629-f28c-4fc4-8e5f-48e959e0a5b1   \n",
      "1  161dbc75-e973-44f7-a346-6254aec99900   \n",
      "2  1d374bef-0e4e-4b3f-b45b-25c14aaa2b0e   \n",
      "3  7ec40d08-8efd-470a-907e-bb9d34fac5af   \n",
      "4  60634a63-633d-42b3-b87e-710e7e0d4282   \n",
      "\n",
      "                                     name             status  \\\n",
      "0                        PSLV-DL | XPoSat  Launch Successful   \n",
      "1   Falcon 9 Block 5 | Starlink Group 7-9  Launch Successful   \n",
      "2              Falcon 9 Block 5 | Ovzon-3  Launch Successful   \n",
      "3            Kuaizhou-1A | Tianmu-1 15-18  Launch Successful   \n",
      "4  Falcon 9 Block 5 | Starlink Group 6-35  Launch Successful   \n",
      "\n",
      "           window_start            window_end  \\\n",
      "0  2024-01-01T03:40:00Z  2024-01-01T03:40:00Z   \n",
      "1  2024-01-03T02:13:00Z  2024-01-03T06:02:10Z   \n",
      "2  2024-01-03T23:04:00Z  2024-01-03T23:14:00Z   \n",
      "3  2024-01-05T11:09:00Z  2024-01-05T11:32:00Z   \n",
      "4  2024-01-07T21:00:40Z  2024-01-08T00:35:10Z   \n",
      "\n",
      "                             provider  \\\n",
      "0  Indian Space Research Organization   \n",
      "1                              SpaceX   \n",
      "2                              SpaceX   \n",
      "3                              ExPace   \n",
      "4                              SpaceX   \n",
      "\n",
      "                              launch_site_name  \\\n",
      "0  Satish Dhawan Space Centre First Launch Pad   \n",
      "1                      Space Launch Complex 4E   \n",
      "2                      Space Launch Complex 40   \n",
      "3                              Launch Area 95A   \n",
      "4                      Space Launch Complex 40   \n",
      "\n",
      "                                launch_site_location  \\\n",
      "0                  Satish Dhawan Space Centre, India   \n",
      "1                            Vandenberg SFB, CA, USA   \n",
      "2                        Cape Canaveral SFS, FL, USA   \n",
      "3  Jiuquan Satellite Launch Center, People's Repu...   \n",
      "4                        Cape Canaveral SFS, FL, USA   \n",
      "\n",
      "                                               orbit  \\\n",
      "0  {'id': 8, 'name': 'Low Earth Orbit', 'abbrev':...   \n",
      "1  {'id': 8, 'name': 'Low Earth Orbit', 'abbrev':...   \n",
      "2  {'id': 2, 'name': 'Geostationary Transfer Orbi...   \n",
      "3  {'id': 17, 'name': 'Sun-Synchronous Orbit', 'a...   \n",
      "4  {'id': 8, 'name': 'Low Earth Orbit', 'abbrev':...   \n",
      "\n",
      "                          launch_site_location_clean Country Location  \\\n",
      "0                  satish dhawan space centre, india     NaN      NaN   \n",
      "1                            vandenberg sfb, ca, usa     NaN      NaN   \n",
      "2                        cape canaveral sfs, fl, usa     NaN      NaN   \n",
      "3  jiuquan satellite launch center, people's repu...     NaN      NaN   \n",
      "4                        cape canaveral sfs, fl, usa     NaN      NaN   \n",
      "\n",
      "  Coordinates Operational date Number of rocket launches  \\\n",
      "0         NaN              NaN                       NaN   \n",
      "1         NaN              NaN                       NaN   \n",
      "2         NaN              NaN                       NaN   \n",
      "3         NaN              NaN                       NaN   \n",
      "4         NaN              NaN                       NaN   \n",
      "\n",
      "  Heaviest rocket launched Highest achieved altitude Notes Location_clean  \n",
      "0                      NaN                       NaN   NaN            NaN  \n",
      "1                      NaN                       NaN   NaN            NaN  \n",
      "2                      NaN                       NaN   NaN            NaN  \n",
      "3                      NaN                       NaN   NaN            NaN  \n",
      "4                      NaN                       NaN   NaN            NaN  \n",
      "Number of matched launch sites (direct match): 0 out of 61\n"
     ]
    }
   ],
   "source": [
    "# Attempt a Direct Merge on a Key Column, but fail!!!\n",
    "# First, let's standardize the strings by stripping whitespace and converting to lower case\n",
    "full_launch_df[\"launch_site_location_clean\"] = full_launch_df[\"launch_site_location\"].str.strip().str.lower()\n",
    "launch_sites_df[\"Location_clean\"] = launch_sites_df[\"Location\"].str.strip().str.lower()\n",
    "\n",
    "# Try a direct merge\n",
    "merged_df = full_launch_df.merge(launch_sites_df, left_on=\"launch_site_location_clean\", right_on=\"Location_clean\", how=\"left\")\n",
    "\n",
    "print(\"Merged DataFrame (direct attempt):\")\n",
    "print(merged_df.head())\n",
    "\n",
    "# Check how many rows were actually matched\n",
    "matched_count = merged_df[\"Location\"].notna().sum()\n",
    "print(f\"Number of matched launch sites (direct match): {matched_count} out of {len(merged_df)}\")\n"
   ]
  },
  {
   "cell_type": "markdown",
   "id": "7adaa77b-ae03-4b2c-a35e-2afcbd4320ea",
   "metadata": {},
   "source": [
    "### Because direct match fail due to column and key word not match"
   ]
  },
  {
   "cell_type": "markdown",
   "id": "12a3768e-3eb3-4c28-880b-e0d40180da7f",
   "metadata": {},
   "source": [
    "### So, we need fuzz match and add some assist column"
   ]
  },
  {
   "cell_type": "code",
   "execution_count": 21,
   "id": "5fd566d2-b51d-4a78-ac12-409897d50ffe",
   "metadata": {},
   "outputs": [
    {
     "name": "stdout",
     "output_type": "stream",
     "text": [
      "Final Merged DataFrame with fuzzy matches and special handling for the Indian site:\n",
      "                              launch_id  \\\n",
      "0  2a29a629-f28c-4fc4-8e5f-48e959e0a5b1   \n",
      "1  161dbc75-e973-44f7-a346-6254aec99900   \n",
      "2  1d374bef-0e4e-4b3f-b45b-25c14aaa2b0e   \n",
      "3  7ec40d08-8efd-470a-907e-bb9d34fac5af   \n",
      "4  60634a63-633d-42b3-b87e-710e7e0d4282   \n",
      "\n",
      "                                     name             status  \\\n",
      "0                        PSLV-DL | XPoSat  Launch Successful   \n",
      "1   Falcon 9 Block 5 | Starlink Group 7-9  Launch Successful   \n",
      "2              Falcon 9 Block 5 | Ovzon-3  Launch Successful   \n",
      "3            Kuaizhou-1A | Tianmu-1 15-18  Launch Successful   \n",
      "4  Falcon 9 Block 5 | Starlink Group 6-35  Launch Successful   \n",
      "\n",
      "           window_start            window_end  \\\n",
      "0  2024-01-01T03:40:00Z  2024-01-01T03:40:00Z   \n",
      "1  2024-01-03T02:13:00Z  2024-01-03T06:02:10Z   \n",
      "2  2024-01-03T23:04:00Z  2024-01-03T23:14:00Z   \n",
      "3  2024-01-05T11:09:00Z  2024-01-05T11:32:00Z   \n",
      "4  2024-01-07T21:00:40Z  2024-01-08T00:35:10Z   \n",
      "\n",
      "                             provider  \\\n",
      "0  Indian Space Research Organization   \n",
      "1                              SpaceX   \n",
      "2                              SpaceX   \n",
      "3                              ExPace   \n",
      "4                              SpaceX   \n",
      "\n",
      "                              launch_site_name  \\\n",
      "0  Satish Dhawan Space Centre First Launch Pad   \n",
      "1                      Space Launch Complex 4E   \n",
      "2                      Space Launch Complex 40   \n",
      "3                              Launch Area 95A   \n",
      "4                      Space Launch Complex 40   \n",
      "\n",
      "                                launch_site_location  \\\n",
      "0                  Satish Dhawan Space Centre, India   \n",
      "1                            Vandenberg SFB, CA, USA   \n",
      "2                        Cape Canaveral SFS, FL, USA   \n",
      "3  Jiuquan Satellite Launch Center, People's Repu...   \n",
      "4                        Cape Canaveral SFS, FL, USA   \n",
      "\n",
      "                                               orbit  \\\n",
      "0  {'id': 8, 'name': 'Low Earth Orbit', 'abbrev':...   \n",
      "1  {'id': 8, 'name': 'Low Earth Orbit', 'abbrev':...   \n",
      "2  {'id': 2, 'name': 'Geostationary Transfer Orbi...   \n",
      "3  {'id': 17, 'name': 'Sun-Synchronous Orbit', 'a...   \n",
      "4  {'id': 8, 'name': 'Low Earth Orbit', 'abbrev':...   \n",
      "\n",
      "                          launch_site_location_clean        Country  \\\n",
      "0                  satish dhawan space centre, india          India   \n",
      "1                            vandenberg sfb, ca, usa  United States   \n",
      "2                        cape canaveral sfs, fl, usa  United States   \n",
      "3  jiuquan satellite launch center, people's repu...          Libya   \n",
      "4                        cape canaveral sfs, fl, usa  United States   \n",
      "\n",
      "                                            Location  \\\n",
      "0  Satish Dhawan Space Centre, Sriharikota, Andhr...   \n",
      "1             Vandenberg Space Force Base,California   \n",
      "2         Cape Canaveral Space Force Station,Florida   \n",
      "3                  Sabha, Tawiwa OTRAG Launch Center   \n",
      "4         Cape Canaveral Space Force Station,Florida   \n",
      "\n",
      "                                         Coordinates Operational date  \\\n",
      "0                              13°43′12″N 80°13′48″E            1971–   \n",
      "1  34°46′19″N120°36′04″W﻿ / ﻿34.77204°N 120.60124...            1958–   \n",
      "2  28°28′00″N80°33′31″W﻿ / ﻿28.46675°N 80.55852°W...            1949–   \n",
      "3  26°59′38″N14°27′51″E﻿ / ﻿26.99392°N 14.46425°E...        1981–1987   \n",
      "4  28°28′00″N80°33′31″W﻿ / ﻿28.46675°N 80.55852°W...            1949–   \n",
      "\n",
      "  Number of rocket launches       Heaviest rocket launched  \\\n",
      "0                      200+  GSLV Mk III (~6400 kg to GTO)   \n",
      "1                      500+                                  \n",
      "2                     1000+                                  \n",
      "3                         2                                  \n",
      "4                     1000+                                  \n",
      "\n",
      "  Highest achieved altitude  \\\n",
      "0                   Orbital   \n",
      "1            Interplanetary   \n",
      "2              Interstellar   \n",
      "3                    50  km   \n",
      "4              Interstellar   \n",
      "\n",
      "                                               Notes  \\\n",
      "0             India's primary orbital launch center.   \n",
      "1  Satellites, ballistic missile tests. Governmen...   \n",
      "2  Commercial and U.S. Government uncrewed missio...   \n",
      "3  GermanOTRAGrockets after site in Zaire closed.[6]   \n",
      "4  Commercial and U.S. Government uncrewed missio...   \n",
      "\n",
      "                                      Location_clean  \\\n",
      "0  satish dhawan space centre, sriharikota, andhr...   \n",
      "1             vandenberg space force base,california   \n",
      "2         cape canaveral space force station,florida   \n",
      "3                  sabha, tawiwa otrag launch center   \n",
      "4         cape canaveral space force station,florida   \n",
      "\n",
      "                                         fuzzy_match  \n",
      "0  satish dhawan space centre, sriharikota, andhr...  \n",
      "1             vandenberg space force base,california  \n",
      "2         cape canaveral space force station,florida  \n",
      "3                  sabha, tawiwa otrag launch center  \n",
      "4         cape canaveral space force station,florida  \n"
     ]
    }
   ],
   "source": [
    "# Extract list of known cleaned locations\n",
    "site_locations_list = launch_sites_df[\"Location_clean\"].unique().tolist()\n",
    "\n",
    "def fuzzy_match(location, choices, scorer=fuzz.WRatio, cutoff=80):\n",
    "    \"\"\"Returns the best match above a given cutoff score using fuzzy matching.\"\"\"\n",
    "    best_match = process.extractOne(location, choices, scorer=scorer)\n",
    "    if best_match and best_match[1] >= cutoff:\n",
    "        return best_match[0]\n",
    "    return None\n",
    "\n",
    "# Identify rows that did not match directly\n",
    "unmatched = merged_df[merged_df[\"Location\"].isna()].copy()\n",
    "\n",
    "# Apply special handling for the Indian site before fuzzy matching\n",
    "for i, row in unmatched.iterrows():\n",
    "    loc = row[\"launch_site_location_clean\"]\n",
    "    if \"satish dhawan\" in loc and \"india\" in loc:\n",
    "        # Assign the known correct site directly without fuzzy logic\n",
    "        unmatched.at[i, \"fuzzy_match\"] = correct_indian_site\n",
    "    else:\n",
    "        # Perform fuzzy matching for other locations\n",
    "        unmatched.at[i, \"fuzzy_match\"] = fuzzy_match(loc, site_locations_list)\n",
    "\n",
    "# Drop columns from unmatched that will be re-merged\n",
    "unmatched = unmatched.drop(columns=[\"Location\", \"Country\", \"Coordinates\", \"Operational date\",\n",
    "                                    \"Number of rocket launches\", \"Heaviest rocket launched\", \n",
    "                                    \"Highest achieved altitude\", \"Notes\", \"Location_clean\"], errors='ignore')\n",
    "\n",
    "# Merge the unmatched back with launch_sites_df using the fuzzy matched (or manually assigned) value\n",
    "unmatched = unmatched.merge(launch_sites_df, left_on=\"fuzzy_match\", right_on=\"Location_clean\", how=\"left\")\n",
    "\n",
    "# Combine the now matched and previously matched rows\n",
    "final_merged_df = pd.concat([merged_df[merged_df[\"Location\"].notna()], unmatched], ignore_index=True)\n",
    "\n",
    "print(\"Final Merged DataFrame with fuzzy matches and special handling for the Indian site:\")\n",
    "print(final_merged_df.head())"
   ]
  },
  {
   "cell_type": "code",
   "execution_count": 22,
   "id": "f51f944f-5472-446d-a4b3-2b08b5d7a00f",
   "metadata": {},
   "outputs": [],
   "source": [
    "#there are something wrong with india one, i check, and find it not in the launch_sites_df. solve above\n",
    "#print(launch_sites_df[\"Location_clean\"].tolist())"
   ]
  },
  {
   "cell_type": "markdown",
   "id": "e529d5d7-e8c1-459e-a330-e2923e4ad2b3",
   "metadata": {},
   "source": [
    "Remove temporary columns like fuzzy_match and any other helper columns that you no longer need.\n",
    "\n",
    "Keep only the columns that are useful for my analysis (e.g., launch_id, name, provider, Country, Location, Coordinates, Operational date)."
   ]
  },
  {
   "cell_type": "markdown",
   "id": "b3693a01-dbc4-4d96-b37b-7d9fc8cc7bc9",
   "metadata": {},
   "source": [
    "## PART 5 FINAl MERGE"
   ]
  },
  {
   "cell_type": "code",
   "execution_count": 23,
   "id": "1f7a1bf6-4fb9-4fe1-8390-77057aab7754",
   "metadata": {},
   "outputs": [
    {
     "name": "stdout",
     "output_type": "stream",
     "text": [
      "Cleaned Final Merged DataFrame:\n",
      "                              launch_id  \\\n",
      "0  2a29a629-f28c-4fc4-8e5f-48e959e0a5b1   \n",
      "1  161dbc75-e973-44f7-a346-6254aec99900   \n",
      "2  1d374bef-0e4e-4b3f-b45b-25c14aaa2b0e   \n",
      "3  7ec40d08-8efd-470a-907e-bb9d34fac5af   \n",
      "4  60634a63-633d-42b3-b87e-710e7e0d4282   \n",
      "\n",
      "                                     name             status  \\\n",
      "0                        PSLV-DL | XPoSat  Launch Successful   \n",
      "1   Falcon 9 Block 5 | Starlink Group 7-9  Launch Successful   \n",
      "2              Falcon 9 Block 5 | Ovzon-3  Launch Successful   \n",
      "3            Kuaizhou-1A | Tianmu-1 15-18  Launch Successful   \n",
      "4  Falcon 9 Block 5 | Starlink Group 6-35  Launch Successful   \n",
      "\n",
      "           window_start            window_end  \\\n",
      "0  2024-01-01T03:40:00Z  2024-01-01T03:40:00Z   \n",
      "1  2024-01-03T02:13:00Z  2024-01-03T06:02:10Z   \n",
      "2  2024-01-03T23:04:00Z  2024-01-03T23:14:00Z   \n",
      "3  2024-01-05T11:09:00Z  2024-01-05T11:32:00Z   \n",
      "4  2024-01-07T21:00:40Z  2024-01-08T00:35:10Z   \n",
      "\n",
      "                             provider  \\\n",
      "0  Indian Space Research Organization   \n",
      "1                              SpaceX   \n",
      "2                              SpaceX   \n",
      "3                              ExPace   \n",
      "4                              SpaceX   \n",
      "\n",
      "                              launch_site_name  \\\n",
      "0  Satish Dhawan Space Centre First Launch Pad   \n",
      "1                      Space Launch Complex 4E   \n",
      "2                      Space Launch Complex 40   \n",
      "3                              Launch Area 95A   \n",
      "4                      Space Launch Complex 40   \n",
      "\n",
      "                                launch_site_location  \\\n",
      "0                  Satish Dhawan Space Centre, India   \n",
      "1                            Vandenberg SFB, CA, USA   \n",
      "2                        Cape Canaveral SFS, FL, USA   \n",
      "3  Jiuquan Satellite Launch Center, People's Repu...   \n",
      "4                        Cape Canaveral SFS, FL, USA   \n",
      "\n",
      "                                               orbit        Country  \\\n",
      "0  {'id': 8, 'name': 'Low Earth Orbit', 'abbrev':...          India   \n",
      "1  {'id': 8, 'name': 'Low Earth Orbit', 'abbrev':...  United States   \n",
      "2  {'id': 2, 'name': 'Geostationary Transfer Orbi...  United States   \n",
      "3  {'id': 17, 'name': 'Sun-Synchronous Orbit', 'a...          Libya   \n",
      "4  {'id': 8, 'name': 'Low Earth Orbit', 'abbrev':...  United States   \n",
      "\n",
      "                                            Location  \\\n",
      "0  Satish Dhawan Space Centre, Sriharikota, Andhr...   \n",
      "1             Vandenberg Space Force Base,California   \n",
      "2         Cape Canaveral Space Force Station,Florida   \n",
      "3                  Sabha, Tawiwa OTRAG Launch Center   \n",
      "4         Cape Canaveral Space Force Station,Florida   \n",
      "\n",
      "                                         Coordinates Operational date  \\\n",
      "0                              13°43′12″N 80°13′48″E            1971–   \n",
      "1  34°46′19″N120°36′04″W﻿ / ﻿34.77204°N 120.60124...            1958–   \n",
      "2  28°28′00″N80°33′31″W﻿ / ﻿28.46675°N 80.55852°W...            1949–   \n",
      "3  26°59′38″N14°27′51″E﻿ / ﻿26.99392°N 14.46425°E...        1981–1987   \n",
      "4  28°28′00″N80°33′31″W﻿ / ﻿28.46675°N 80.55852°W...            1949–   \n",
      "\n",
      "  Number of rocket launches       Heaviest rocket launched  \\\n",
      "0                      200+  GSLV Mk III (~6400 kg to GTO)   \n",
      "1                      500+                                  \n",
      "2                     1000+                                  \n",
      "3                         2                                  \n",
      "4                     1000+                                  \n",
      "\n",
      "  Highest achieved altitude                                              Notes  \n",
      "0                   Orbital             India's primary orbital launch center.  \n",
      "1            Interplanetary  Satellites, ballistic missile tests. Governmen...  \n",
      "2              Interstellar  Commercial and U.S. Government uncrewed missio...  \n",
      "3                    50  km  GermanOTRAGrockets after site in Zaire closed.[6]  \n",
      "4              Interstellar  Commercial and U.S. Government uncrewed missio...  \n"
     ]
    }
   ],
   "source": [
    "#Clean up final_merged_df by removing unnecessary columns\n",
    "columns_to_remove = [\"fuzzy_match\", \"Location_clean\", \"launch_site_location_clean\"]\n",
    "for col in columns_to_remove:\n",
    "    if col in final_merged_df.columns:\n",
    "        final_merged_df = final_merged_df.drop(columns=[col])\n",
    "print(\"Cleaned Final Merged DataFrame:\")\n",
    "print(final_merged_df.head())"
   ]
  },
  {
   "cell_type": "code",
   "execution_count": 24,
   "id": "b316e1e7-5261-4148-b2ac-ee9de0108907",
   "metadata": {},
   "outputs": [
    {
     "name": "stdout",
     "output_type": "stream",
     "text": [
      "final_merged_df saved to final_merged_df.csv\n"
     ]
    }
   ],
   "source": [
    "# Save to CSV\n",
    "final_merged_df.to_csv(\"final_merged_df.csv\", index=False)\n",
    "print(\"final_merged_df saved to final_merged_df.csv\")"
   ]
  },
  {
   "cell_type": "markdown",
   "id": "f10752fd-ba89-43d2-ac9e-5fb43a40714e",
   "metadata": {},
   "source": [
    "Convert Date Columns to Datetime:\n",
    "Ensure that your date columns ( window_start for launches and close_approach_date for NEOs) are converted to datetime objects"
   ]
  },
  {
   "cell_type": "code",
   "execution_count": 25,
   "id": "f18871da-5e6a-4ee4-a1c2-6086420fd391",
   "metadata": {},
   "outputs": [],
   "source": [
    "final_merged_df[\"window_start\"] = pd.to_datetime(final_merged_df[\"window_start\"]).dt.tz_localize(None)\n",
    "full_neo_df[\"close_approach_date\"] = pd.to_datetime(full_neo_df[\"close_approach_date\"]).dt.tz_localize(None)"
   ]
  },
  {
   "cell_type": "markdown",
   "id": "b8ca16c6-7373-49a7-852a-229d9293c0e4",
   "metadata": {},
   "source": [
    "Aggregate Data by Month"
   ]
  },
  {
   "cell_type": "code",
   "execution_count": 26,
   "id": "7f5e6153-88b1-43be-a952-218fa0bcb77d",
   "metadata": {},
   "outputs": [],
   "source": [
    "# Create a year-month column for both DataFrames\n",
    "final_merged_df[\"year_month\"] = final_merged_df[\"window_start\"].dt.to_period(\"M\")\n",
    "full_neo_df[\"year_month\"] = full_neo_df[\"close_approach_date\"].dt.to_period(\"M\")\n",
    "\n",
    "# Aggregate launches by month\n",
    "monthly_launches = final_merged_df.groupby(\"year_month\").size().reset_index(name=\"launch_count\")\n",
    "\n",
    "# Aggregate NEOs by month\n",
    "monthly_neos = full_neo_df.groupby(\"year_month\").size().reset_index(name=\"neo_count\")"
   ]
  },
  {
   "cell_type": "code",
   "execution_count": 27,
   "id": "0a87aa01-9511-44e8-b6bc-8640bb9157d2",
   "metadata": {},
   "outputs": [],
   "source": [
    "#merge aggrgate data\n",
    "monthly_combined = pd.merge(monthly_launches, monthly_neos, on=\"year_month\", how=\"outer\")\n",
    "monthly_combined[\"year_month\"] = monthly_combined[\"year_month\"].dt.to_timestamp()\n",
    "\n",
    "# Fill missing values if any\n",
    "monthly_combined[\"launch_count\"] = monthly_combined[\"launch_count\"].fillna(0)\n",
    "monthly_combined[\"neo_count\"] = monthly_combined[\"neo_count\"].fillna(0)"
   ]
  },
  {
   "cell_type": "markdown",
   "id": "0b0ec5ee-d969-434c-8bf1-d0d37c6bafa3",
   "metadata": {},
   "source": [
    "# Anlysis"
   ]
  },
  {
   "cell_type": "code",
   "execution_count": 28,
   "id": "ef290115-ff5e-4951-aca2-cedf587fd37e",
   "metadata": {},
   "outputs": [
    {
     "name": "stdout",
     "output_type": "stream",
     "text": [
      "Correlation between monthly launches and NEO counts: 0.917662935482247\n"
     ]
    }
   ],
   "source": [
    "correlation = monthly_combined[\"launch_count\"].corr(monthly_combined[\"neo_count\"])\n",
    "print(\"Correlation between monthly launches and NEO counts:\", correlation)\n"
   ]
  },
  {
   "cell_type": "markdown",
   "id": "192081c4-e352-4048-b205-0ecaf84ddb57",
   "metadata": {},
   "source": [
    "A correlation of approximately 0.9177 indicates a strong positive linear relationship between monthly launches and monthly NEO counts. \n",
    "During the months where the number of rocket launches was higher, the number of observed NEOs also tended to be higher."
   ]
  },
  {
   "cell_type": "code",
   "execution_count": 29,
   "id": "0916c826-cc78-447b-aab8-655df79fe6a7",
   "metadata": {},
   "outputs": [
    {
     "name": "stdout",
     "output_type": "stream",
     "text": [
      "  year_month  launch_count  neo_count\n",
      "0 2024-01-01            23        573\n",
      "1 2024-02-01            19        548\n",
      "2 2024-03-01            19        558\n"
     ]
    }
   ],
   "source": [
    "print(monthly_combined)"
   ]
  },
  {
   "cell_type": "markdown",
   "id": "41aa5bd8-5eee-4d1d-99af-ea4734464e71",
   "metadata": {},
   "source": [
    "For analysis of NEO Count by Orbiting Body, Launch Count by Provider,Analyze Hazardous NEOs, and Launch-NEO Match Analysis \n",
    "please move to example.ipynb"
   ]
  },
  {
   "cell_type": "code",
   "execution_count": null,
   "id": "2f0dcb44-c695-46e5-b609-b462365343a3",
   "metadata": {},
   "outputs": [],
   "source": []
  }
 ],
 "metadata": {
  "kernelspec": {
   "display_name": "Python 3 (ipykernel)",
   "language": "python",
   "name": "python3"
  },
  "language_info": {
   "codemirror_mode": {
    "name": "ipython",
    "version": 3
   },
   "file_extension": ".py",
   "mimetype": "text/x-python",
   "name": "python",
   "nbconvert_exporter": "python",
   "pygments_lexer": "ipython3",
   "version": "3.8.3"
  }
 },
 "nbformat": 4,
 "nbformat_minor": 5
}
