{
 "cells": [
  {
   "cell_type": "markdown",
   "metadata": {},
   "source": [
    "# Example usage\n",
    "\n",
    "To use `final` in a project:"
   ]
  },
  {
   "cell_type": "markdown",
   "metadata": {},
   "source": [
    "import final\n",
    "print(final.__version__)"
   ]
  },
  {
   "cell_type": "markdown",
   "metadata": {},
   "source": [
    "# Final Project: API Client for Space Data\n",
    "\n",
    "This notebook demonstrates the functionality of the API client for space-related data. The package integrates:\n",
    "- NASA NEO (Near-Earth Object) API\n",
    "- Launch Library 2 API\n",
    "- Launch site data scraped from Wikipedia"
   ]
  },
  {
   "cell_type": "code",
   "execution_count": 3,
   "metadata": {},
   "outputs": [],
   "source": [
    "#!pip install -e .."
   ]
  },
  {
   "cell_type": "markdown",
   "metadata": {},
   "source": [
    "## Fetch Near-Earth Object (NEO) Data\n",
    "\n",
    "We use the `fetch_neo_data` function to retrieve NEO data from NASA's API."
   ]
  },
  {
   "cell_type": "code",
   "execution_count": 5,
   "metadata": {},
   "outputs": [
    {
     "name": "stdout",
     "output_type": "stream",
     "text": [
      "NEO DataFrame:\n",
      "    neo_id                name  is_potentially_hazardous close_approach_date  \\\n",
      "0  2415949  415949 (2001 XY10)                     False   2024-Jan-02 13:14   \n",
      "1  3160747         (2003 SR84)                     False   2024-Jan-02 22:45   \n",
      "2  3309828         (2005 YQ96)                      True   2024-Jan-02 19:42   \n",
      "3  3457842         (2009 HC21)                     False   2024-Jan-02 12:06   \n",
      "4  3553062         (2010 XA11)                     False   2024-Jan-02 15:31   \n",
      "\n",
      "  relative_velocity_km_s    miss_distance_km orbiting_body  \\\n",
      "0          15.8905264223  50452409.349026638         Earth   \n",
      "1          10.7191818981  19798169.933318188         Earth   \n",
      "2          15.6702817644  24984732.559194501         Earth   \n",
      "3           6.0808661718  73609796.924990823         Earth   \n",
      "4           8.7413828775  35275514.131770482         Earth   \n",
      "\n",
      "   estimated_diameter_min_km  estimated_diameter_max_km  \n",
      "0                   0.355267                   0.794401  \n",
      "1                   0.016771                   0.037501  \n",
      "2                   0.199781                   0.446725  \n",
      "3                   0.101054                   0.225964  \n",
      "4                   0.016016                   0.035813  \n"
     ]
    }
   ],
   "source": [
    "from final.nasa_neo import fetch_neo_data\n",
    "\n",
    "# Define API Key and fetch data for a 7-day period\n",
    "API_KEY = \"22HhA6JA83J17Yigaa5ZM3Tyzd4jsOP8vpFFdrct\"  \n",
    "neo_df = fetch_neo_data(\"2024-01-01\", \"2024-01-07\", api_key=API_KEY)\n",
    "\n",
    "print(\"NEO DataFrame:\")\n",
    "print(neo_df.head())"
   ]
  },
  {
   "cell_type": "markdown",
   "metadata": {},
   "source": [
    "## Fetch Rocket Launch Data\n",
    "\n",
    "We use the `fetch_all_launches` and `parse_launch_data` functions to retrieve and parse rocket launch data from Launch Library 2 API."
   ]
  },
  {
   "cell_type": "code",
   "execution_count": 6,
   "metadata": {},
   "outputs": [
    {
     "name": "stdout",
     "output_type": "stream",
     "text": [
      "Launch DataFrame:\n",
      "                              launch_id  \\\n",
      "0  2a29a629-f28c-4fc4-8e5f-48e959e0a5b1   \n",
      "1  161dbc75-e973-44f7-a346-6254aec99900   \n",
      "2  1d374bef-0e4e-4b3f-b45b-25c14aaa2b0e   \n",
      "3  7ec40d08-8efd-470a-907e-bb9d34fac5af   \n",
      "4  60634a63-633d-42b3-b87e-710e7e0d4282   \n",
      "\n",
      "                                     name             status  \\\n",
      "0                        PSLV-DL | XPoSat  Launch Successful   \n",
      "1   Falcon 9 Block 5 | Starlink Group 7-9  Launch Successful   \n",
      "2              Falcon 9 Block 5 | Ovzon-3  Launch Successful   \n",
      "3            Kuaizhou-1A | Tianmu-1 15-18  Launch Successful   \n",
      "4  Falcon 9 Block 5 | Starlink Group 6-35  Launch Successful   \n",
      "\n",
      "           window_start            window_end  \\\n",
      "0  2024-01-01T03:40:00Z  2024-01-01T03:40:00Z   \n",
      "1  2024-01-03T02:13:00Z  2024-01-03T06:02:10Z   \n",
      "2  2024-01-03T23:04:00Z  2024-01-03T23:14:00Z   \n",
      "3  2024-01-05T11:09:00Z  2024-01-05T11:32:00Z   \n",
      "4  2024-01-07T21:00:40Z  2024-01-08T00:35:10Z   \n",
      "\n",
      "                             provider  \\\n",
      "0  Indian Space Research Organization   \n",
      "1                              SpaceX   \n",
      "2                              SpaceX   \n",
      "3                              ExPace   \n",
      "4                              SpaceX   \n",
      "\n",
      "                              launch_site_name  \\\n",
      "0  Satish Dhawan Space Centre First Launch Pad   \n",
      "1                      Space Launch Complex 4E   \n",
      "2                      Space Launch Complex 40   \n",
      "3                              Launch Area 95A   \n",
      "4                      Space Launch Complex 40   \n",
      "\n",
      "                                launch_site_location  \\\n",
      "0                  Satish Dhawan Space Centre, India   \n",
      "1                            Vandenberg SFB, CA, USA   \n",
      "2                        Cape Canaveral SFS, FL, USA   \n",
      "3  Jiuquan Satellite Launch Center, People's Repu...   \n",
      "4                        Cape Canaveral SFS, FL, USA   \n",
      "\n",
      "                                               orbit  \n",
      "0  {'id': 8, 'name': 'Low Earth Orbit', 'abbrev':...  \n",
      "1  {'id': 8, 'name': 'Low Earth Orbit', 'abbrev':...  \n",
      "2  {'id': 2, 'name': 'Geostationary Transfer Orbi...  \n",
      "3  {'id': 17, 'name': 'Sun-Synchronous Orbit', 'a...  \n",
      "4  {'id': 8, 'name': 'Low Earth Orbit', 'abbrev':...  \n"
     ]
    }
   ],
   "source": [
    "from final.launches import fetch_all_launches, parse_launch_data\n",
    "\n",
    "# Fetch launch data for January 2024\n",
    "base_url = \"https://ll.thespacedevs.com/2.2.0/launch/\"\n",
    "params = {\"window_start__gte\": \"2024-01-01\", \"window_end__lte\": \"2024-01-31\"}\n",
    "launch_data = fetch_all_launches(base_url, params)\n",
    "launch_df = parse_launch_data(launch_data)\n",
    "\n",
    "print(\"Launch DataFrame:\")\n",
    "print(launch_df.head())"
   ]
  },
  {
   "cell_type": "markdown",
   "metadata": {},
   "source": [
    "## Scrape Launch Site Data\n",
    "\n",
    "We use the `scrape_launch_sites` function to scrape a list of rocket launch sites from Wikipedia."
   ]
  },
  {
   "cell_type": "code",
   "execution_count": 7,
   "metadata": {},
   "outputs": [
    {
     "name": "stdout",
     "output_type": "stream",
     "text": [
      "Launch Sites DataFrame:\n",
      "          Country                                           Location  \\\n",
      "0  French Algeria  Centre interarmées d'essais d'engins spéciaux ...   \n",
      "1         Algeria                                            Reggane   \n",
      "2           Zaire     Shaba North, Kapani Tonneo OTRAG Launch Center   \n",
      "3           Egypt  Jabal Hamzah ballistic missile test and launch...   \n",
      "4           Kenya           Broglio Space Centre (San Marco),Malindi   \n",
      "\n",
      "                                         Coordinates Operational date  \\\n",
      "0  31°05′58″N2°50′09″W﻿ / ﻿31.09951°N 2.83581°W﻿ ...        1947–1967   \n",
      "1  26°43′08″N0°16′37″E﻿ / ﻿26.71895°N 0.27691°E﻿ ...        1961–1965   \n",
      "2  7°55′33″S28°31′40″E﻿ / ﻿7.92587°S 28.52766°E﻿ ...        1975–1979   \n",
      "3  30°07′32.7″N30°36′18.5″E﻿ / ﻿30.125750°N 30.60...        1962–1973   \n",
      "4  2°56′27″S40°12′48″E﻿ / ﻿2.94080°S 40.21340°E﻿ ...        1964–1988   \n",
      "\n",
      "  Number of rocket launches Heaviest rocket launched  \\\n",
      "0                       230                18,000 kg   \n",
      "1                        10                            \n",
      "2                         3                            \n",
      "3                         6                            \n",
      "4                        27                20,000 kg   \n",
      "\n",
      "  Highest achieved altitude                                              Notes  \n",
      "0                   Orbital                             Operated by France.[1]  \n",
      "1                                                                               \n",
      "2                    <50 km                             GermanOTRAGrockets.[2]  \n",
      "3                                      TestingSRBMsAl Zafir and Al Kahir[3][4]  \n",
      "4                   Orbital  Scoutrockets, operated byASIandSapienza Univer...  \n"
     ]
    }
   ],
   "source": [
    "from final.scraper import scrape_launch_sites\n",
    "\n",
    "# Scrape launch site data from Wikipedia\n",
    "url = \"https://en.wikipedia.org/wiki/List_of_rocket_launch_sites\"\n",
    "site_df = scrape_launch_sites(url)\n",
    "\n",
    "print(\"Launch Sites DataFrame:\")\n",
    "print(site_df.head())"
   ]
  },
  {
   "cell_type": "markdown",
   "metadata": {},
   "source": [
    "## Merge NEO, Launch, and Launch Site Data\n",
    "\n",
    "We use the `merge_data` function to combine all three datasets into a single DataFrame."
   ]
  },
  {
   "cell_type": "code",
   "execution_count": 8,
   "metadata": {},
   "outputs": [
    {
     "name": "stdout",
     "output_type": "stream",
     "text": [
      "Merged DataFrame:\n",
      "                              launch_id  \\\n",
      "0  2a29a629-f28c-4fc4-8e5f-48e959e0a5b1   \n",
      "1  161dbc75-e973-44f7-a346-6254aec99900   \n",
      "2  1d374bef-0e4e-4b3f-b45b-25c14aaa2b0e   \n",
      "3  7ec40d08-8efd-470a-907e-bb9d34fac5af   \n",
      "4  60634a63-633d-42b3-b87e-710e7e0d4282   \n",
      "\n",
      "                                   name_x             status  \\\n",
      "0                        PSLV-DL | XPoSat  Launch Successful   \n",
      "1   Falcon 9 Block 5 | Starlink Group 7-9  Launch Successful   \n",
      "2              Falcon 9 Block 5 | Ovzon-3  Launch Successful   \n",
      "3            Kuaizhou-1A | Tianmu-1 15-18  Launch Successful   \n",
      "4  Falcon 9 Block 5 | Starlink Group 6-35  Launch Successful   \n",
      "\n",
      "         window_start            window_end  \\\n",
      "0 2024-01-01 03:40:00  2024-01-01T03:40:00Z   \n",
      "1 2024-01-03 02:13:00  2024-01-03T06:02:10Z   \n",
      "2 2024-01-03 23:04:00  2024-01-03T23:14:00Z   \n",
      "3 2024-01-05 11:09:00  2024-01-05T11:32:00Z   \n",
      "4 2024-01-07 21:00:40  2024-01-08T00:35:10Z   \n",
      "\n",
      "                             provider  \\\n",
      "0  Indian Space Research Organization   \n",
      "1                              SpaceX   \n",
      "2                              SpaceX   \n",
      "3                              ExPace   \n",
      "4                              SpaceX   \n",
      "\n",
      "                              launch_site_name  \\\n",
      "0  Satish Dhawan Space Centre First Launch Pad   \n",
      "1                      Space Launch Complex 4E   \n",
      "2                      Space Launch Complex 40   \n",
      "3                              Launch Area 95A   \n",
      "4                      Space Launch Complex 40   \n",
      "\n",
      "                                launch_site_location  \\\n",
      "0                  Satish Dhawan Space Centre, India   \n",
      "1                            Vandenberg SFB, CA, USA   \n",
      "2                        Cape Canaveral SFS, FL, USA   \n",
      "3  Jiuquan Satellite Launch Center, People's Repu...   \n",
      "4                        Cape Canaveral SFS, FL, USA   \n",
      "\n",
      "                                               orbit neo_id  ...  \\\n",
      "0  {'id': 8, 'name': 'Low Earth Orbit', 'abbrev':...    NaN  ...   \n",
      "1  {'id': 8, 'name': 'Low Earth Orbit', 'abbrev':...    NaN  ...   \n",
      "2  {'id': 2, 'name': 'Geostationary Transfer Orbi...    NaN  ...   \n",
      "3  {'id': 17, 'name': 'Sun-Synchronous Orbit', 'a...    NaN  ...   \n",
      "4  {'id': 8, 'name': 'Low Earth Orbit', 'abbrev':...    NaN  ...   \n",
      "\n",
      "  estimated_diameter_min_km estimated_diameter_max_km Country Location  \\\n",
      "0                       NaN                       NaN     NaN      NaN   \n",
      "1                       NaN                       NaN     NaN      NaN   \n",
      "2                       NaN                       NaN     NaN      NaN   \n",
      "3                       NaN                       NaN     NaN      NaN   \n",
      "4                       NaN                       NaN     NaN      NaN   \n",
      "\n",
      "  Coordinates Operational date  Number of rocket launches  \\\n",
      "0         NaN              NaN                        NaN   \n",
      "1         NaN              NaN                        NaN   \n",
      "2         NaN              NaN                        NaN   \n",
      "3         NaN              NaN                        NaN   \n",
      "4         NaN              NaN                        NaN   \n",
      "\n",
      "   Heaviest rocket launched Highest achieved altitude Notes  \n",
      "0                       NaN                       NaN   NaN  \n",
      "1                       NaN                       NaN   NaN  \n",
      "2                       NaN                       NaN   NaN  \n",
      "3                       NaN                       NaN   NaN  \n",
      "4                       NaN                       NaN   NaN  \n",
      "\n",
      "[5 rows x 26 columns]\n"
     ]
    }
   ],
   "source": [
    "from final.utils import merge_data\n",
    "\n",
    "# Merge all data\n",
    "merged_df = merge_data(neo_df, launch_df, site_df)\n",
    "\n",
    "print(\"Merged DataFrame:\")\n",
    "print(merged_df.head())"
   ]
  },
  {
   "cell_type": "markdown",
   "metadata": {},
   "source": [
    "## Analyze and Visualize Data\n",
    "\n",
    "In this section, we analyze the following:\n",
    "1. Distribution of Near-Earth Objects (NEOs) by orbiting body.\n",
    "2. Number of launches conducted by different providers.\n",
    "3. Characteristics of potentially hazardous NEOs.\n",
    "4. Number of launches that coincide with close NEO approaches.\n"
   ]
  },
  {
   "cell_type": "code",
   "execution_count": 11,
   "metadata": {},
   "outputs": [
    {
     "name": "stdout",
     "output_type": "stream",
     "text": [
      "NEO Count by Orbiting Body:\n",
      "  orbiting_body  neo_count\n",
      "0         Earth        109\n"
     ]
    }
   ],
   "source": [
    "# Group NEOs by their orbiting body\n",
    "neo_by_orbiting_body = neo_df.groupby(\"orbiting_body\").size().reset_index(name=\"neo_count\")\n",
    "neo_by_orbiting_body = neo_by_orbiting_body.sort_values(by=\"neo_count\", ascending=False)\n",
    "\n",
    "print(\"NEO Count by Orbiting Body:\")\n",
    "print(neo_by_orbiting_body)"
   ]
  },
  {
   "cell_type": "code",
   "execution_count": 12,
   "metadata": {},
   "outputs": [
    {
     "name": "stdout",
     "output_type": "stream",
     "text": [
      "Launch Count by Provider:\n",
      "                                             provider  launch_count\n",
      "8                                              SpaceX            10\n",
      "1   China Aerospace Science and Technology Corpora...             2\n",
      "2                                              ExPace             2\n",
      "0                                           CAS Space             1\n",
      "3                  Indian Space Research Organization             1\n",
      "4                                Iranian Space Agency             1\n",
      "5   Islamic Revolutionary Guard Corps Aerospace Force             1\n",
      "6                         Mitsubishi Heavy Industries             1\n",
      "7                               Orienspace Technology             1\n",
      "9                              United Launch Alliance             1\n",
      "10                                    Virgin Galactic             1\n"
     ]
    }
   ],
   "source": [
    "# Group launches by provider\n",
    "launch_by_provider = launch_df.groupby(\"provider\").size().reset_index(name=\"launch_count\")\n",
    "launch_by_provider = launch_by_provider.sort_values(by=\"launch_count\", ascending=False)\n",
    "\n",
    "print(\"Launch Count by Provider:\")\n",
    "print(launch_by_provider)"
   ]
  },
  {
   "cell_type": "code",
   "execution_count": 13,
   "metadata": {},
   "outputs": [
    {
     "name": "stdout",
     "output_type": "stream",
     "text": [
      "Top 5 Closest Hazardous NEOs:\n",
      "     neo_id                name  is_potentially_hazardous close_approach_date  \\\n",
      "19  2669051  669051 (2012 SD22)                      True 2024-01-02 13:50:00   \n",
      "6   3608936         (2012 SD22)                      True 2024-01-02 13:50:00   \n",
      "2   3309828         (2005 YQ96)                      True 2024-01-02 19:42:00   \n",
      "9   2613286  613286 (2005 YQ96)                      True 2024-01-02 19:42:00   \n",
      "96  2199003  199003 (2005 WJ56)                      True 2024-01-07 02:32:00   \n",
      "\n",
      "   relative_velocity_km_s  miss_distance_km orbiting_body  \\\n",
      "19          11.0227939464      2.459731e+07         Earth   \n",
      "6           11.0227943004      2.459731e+07         Earth   \n",
      "2           15.6702817644      2.498473e+07         Earth   \n",
      "9           15.6702896005      2.498480e+07         Earth   \n",
      "96          15.2908365812      2.984994e+07         Earth   \n",
      "\n",
      "    estimated_diameter_min_km  estimated_diameter_max_km year_month  \n",
      "19                   0.256186                   0.572849    2024-01  \n",
      "6                    0.259750                   0.580818    2024-01  \n",
      "2                    0.199781                   0.446725    2024-01  \n",
      "9                    0.198863                   0.444672    2024-01  \n",
      "96                   0.620233                   1.386883    2024-01  \n",
      "Average Size of Hazardous NEOs (min, max): estimated_diameter_min_km    0.306847\n",
      "estimated_diameter_max_km    0.686130\n",
      "dtype: float64\n",
      "Average Velocity of Hazardous NEOs (km/s): 16.510938970890003\n"
     ]
    },
    {
     "name": "stderr",
     "output_type": "stream",
     "text": [
      "/var/folders/rc/t176n3h137scnk86p3hscm8m0000gn/T/ipykernel_21804/1314756881.py:5: SettingWithCopyWarning: \n",
      "A value is trying to be set on a copy of a slice from a DataFrame.\n",
      "Try using .loc[row_indexer,col_indexer] = value instead\n",
      "\n",
      "See the caveats in the documentation: https://pandas.pydata.org/pandas-docs/stable/user_guide/indexing.html#returning-a-view-versus-a-copy\n",
      "  hazardous_neos[\"miss_distance_km\"] = hazardous_neos[\"miss_distance_km\"].astype(float)\n"
     ]
    }
   ],
   "source": [
    "# Filter hazardous NEOs\n",
    "hazardous_neos = neo_df[neo_df[\"is_potentially_hazardous\"] == True]\n",
    "\n",
    "# Top 5 closest hazardous NEOs\n",
    "hazardous_neos[\"miss_distance_km\"] = hazardous_neos[\"miss_distance_km\"].astype(float)\n",
    "closest_hazardous_neos = hazardous_neos.nsmallest(5, \"miss_distance_km\")\n",
    "\n",
    "print(\"Top 5 Closest Hazardous NEOs:\")\n",
    "print(closest_hazardous_neos)\n",
    "\n",
    "# Average size and velocity of hazardous NEOs\n",
    "average_size = hazardous_neos[[\"estimated_diameter_min_km\", \"estimated_diameter_max_km\"]].mean()\n",
    "average_velocity = hazardous_neos[\"relative_velocity_km_s\"].astype(float).mean()\n",
    "\n",
    "print(\"Average Size of Hazardous NEOs (min, max):\", average_size)\n",
    "print(\"Average Velocity of Hazardous NEOs (km/s):\", average_velocity)"
   ]
  },
  {
   "cell_type": "code",
   "execution_count": 14,
   "metadata": {},
   "outputs": [
    {
     "name": "stdout",
     "output_type": "stream",
     "text": [
      "Number of launches on the same day as NEO close approaches: 0\n"
     ]
    }
   ],
   "source": [
    "# Convert date columns to datetime\n",
    "neo_df[\"close_approach_date\"] = pd.to_datetime(neo_df[\"close_approach_date\"])\n",
    "launch_df[\"window_start\"] = pd.to_datetime(launch_df[\"window_start\"])\n",
    "\n",
    "# Match launch dates with NEO close approach dates\n",
    "launch_and_neo_matches = pd.merge(\n",
    "    neo_df[[\"close_approach_date\"]], \n",
    "    launch_df[[\"window_start\"]], \n",
    "    left_on=\"close_approach_date\", \n",
    "    right_on=\"window_start\", \n",
    "    how=\"inner\"\n",
    ")\n",
    "\n",
    "matched_count = launch_and_neo_matches.shape[0]\n",
    "print(f\"Number of launches on the same day as NEO close approaches: {matched_count}\")"
   ]
  },
  {
   "cell_type": "code",
   "execution_count": null,
   "metadata": {},
   "outputs": [],
   "source": []
  }
 ],
 "metadata": {
  "kernelspec": {
   "display_name": "Python 3 (ipykernel)",
   "language": "python",
   "name": "python3"
  },
  "language_info": {
   "codemirror_mode": {
    "name": "ipython",
    "version": 3
   },
   "file_extension": ".py",
   "mimetype": "text/x-python",
   "name": "python",
   "nbconvert_exporter": "python",
   "pygments_lexer": "ipython3",
   "version": "3.8.3"
  }
 },
 "nbformat": 4,
 "nbformat_minor": 4
}
