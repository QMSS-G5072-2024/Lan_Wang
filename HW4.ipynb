{
 "cells": [
  {
   "cell_type": "markdown",
   "metadata": {},
   "source": [
    "# 1. Animal Class\n"
   ]
  },
  {
   "cell_type": "markdown",
   "metadata": {},
   "source": [
    "## a)"
   ]
  },
  {
   "cell_type": "code",
   "execution_count": 1,
   "metadata": {},
   "outputs": [
    {
     "name": "stdout",
     "output_type": "stream",
     "text": [
      "Animal Attributes:\n",
      "Name: Buddy\n",
      "Species: Dog\n",
      "Age: 3\n"
     ]
    }
   ],
   "source": [
    "class Animal:\n",
    "    def __init__(self, name, species, age):\n",
    "        self.name = name\n",
    "        self.species = species\n",
    "        self.age = age\n",
    "animal_example = Animal(name=\"Buddy\", species=\"Dog\", age=3)\n",
    "print(\"Animal Attributes:\")\n",
    "print(f\"Name: {animal_example.name}\")\n",
    "print(f\"Species: {animal_example.species}\")\n",
    "print(f\"Age: {animal_example.age}\")\n"
   ]
  },
  {
   "cell_type": "markdown",
   "metadata": {},
   "source": [
    "## b)"
   ]
  },
  {
   "cell_type": "code",
   "execution_count": 2,
   "metadata": {},
   "outputs": [
    {
     "name": "stdout",
     "output_type": "stream",
     "text": [
      "String type of Animal Object:\n",
      "Buddy the Dog is 5 years old.\n"
     ]
    }
   ],
   "source": [
    "class Animal:\n",
    "    def __init__(self, name, species, age):\n",
    "        self.name = name\n",
    "        self.species = species\n",
    "        self.age = age\n",
    "    \n",
    "    def __str__(self):\n",
    "        return f\"{self.name} the {self.species} is {self.age} years old.\"\n",
    "    \n",
    "animal_example2 = Animal(name=\"Buddy\", species=\"Dog\", age=5)\n",
    "print(\"String type of Animal Object:\")\n",
    "print(animal_example2)"
   ]
  },
  {
   "cell_type": "markdown",
   "metadata": {},
   "source": [
    "## c) Create Animal objects"
   ]
  },
  {
   "cell_type": "code",
   "execution_count": 3,
   "metadata": {},
   "outputs": [
    {
     "name": "stdout",
     "output_type": "stream",
     "text": [
      "\n",
      "String Representations of Animal Objects:\n",
      "Buddy the Dog is 3 years old.\n",
      "Whiskers the Cat is 2 years old.\n",
      "Chirpy the Bird is 1 years old.\n",
      "Nibbles the Rabbit is 4 years old.\n",
      "Goldie the Fish is 1 years old.\n",
      "Spike the Lizard is 5 years old.\n"
     ]
    }
   ],
   "source": [
    "#animal data \n",
    "animals_data = [\n",
    "    {\"name\": \"Buddy\", \"species\": \"Dog\", \"age\": 3},\n",
    "    {\"name\": \"Whiskers\", \"species\": \"Cat\", \"age\": 2},\n",
    "    {\"name\": \"Chirpy\", \"species\": \"Bird\", \"age\": 1},\n",
    "    {\"name\": \"Nibbles\", \"species\": \"Rabbit\", \"age\": 4},\n",
    "    {\"name\": \"Goldie\", \"species\": \"Fish\", \"age\": 1},\n",
    "    {\"name\": \"Spike\", \"species\": \"Lizard\", \"age\": 5}\n",
    "]\n",
    "\n",
    "animals = [Animal(**data) for data in animals_data]\n",
    "\n",
    "print(\"\\nString Representations of Animal Objects:\")\n",
    "for animal in animals:\n",
    "    print(animal)\n"
   ]
  },
  {
   "cell_type": "markdown",
   "metadata": {},
   "source": [
    "## d) Add Adoption Status"
   ]
  },
  {
   "cell_type": "code",
   "execution_count": 4,
   "metadata": {},
   "outputs": [
    {
     "name": "stdout",
     "output_type": "stream",
     "text": [
      "\n",
      "String Representations of Animal Objects:\n",
      "Buddy the Dog is 3 years old and is available for adoption.\n",
      "Whiskers the Cat is 2 years old and is available for adoption.\n",
      "Chirpy the Bird is 1 years old and is available for adoption.\n",
      "Nibbles the Rabbit is 4 years old and is available for adoption.\n",
      "Goldie the Fish is 1 years old and is available for adoption.\n",
      "Spike the Lizard is 5 years old and is available for adoption.\n",
      "\n",
      "After adopting Whiskers:\n",
      "Whiskers the Cat is 2 years old and is adopted.\n"
     ]
    }
   ],
   "source": [
    "class Animal:\n",
    "    def __init__(self, name, species, age):\n",
    "        self.name = name\n",
    "        self.species = species\n",
    "        self.age = age\n",
    "        self.is_adopted = False  # Default status for adoption when adding adoption\n",
    "    \n",
    "    def __str__(self):\n",
    "        status = \"adopted\" if self.is_adopted else \"available for adoption\"\n",
    "        return f\"{self.name} the {self.species} is {self.age} years old and is {status}.\"\n",
    "    \n",
    "    def adopt(self):\n",
    "        # Mark the animal as adopted if it is not ready\n",
    "        if not self.is_adopted:\n",
    "            self.is_adopted = True\n",
    "        else:\n",
    "            print(f\"{self.name} has already been adopted.\")\n",
    "\n",
    "# Initializing each Animal object \n",
    "animals = [Animal(**data) for data in animals_data]\n",
    "print(\"\\nString Representations of Animal Objects:\")\n",
    "for animal in animals:\n",
    "    print(animal)\n",
    "\n",
    "# Part d: Demonstrate adoption of \"Whiskers\" and print the updated string representation\n",
    "whiskers = animals[1]  # \"Whiskers\" is the second animal in the list\n",
    "whiskers.adopt()       # Adopting \"Whiskers\"\n",
    "print(\"\\nAfter adopting Whiskers:\")\n",
    "print(whiskers)        # Print updated string representation for \"Whiskers\""
   ]
  },
  {
   "cell_type": "markdown",
   "metadata": {},
   "source": [
    "# 2 Shelter Class\n",
    "## a) Create Shelter class"
   ]
  },
  {
   "cell_type": "code",
   "execution_count": 5,
   "metadata": {},
   "outputs": [
    {
     "name": "stdout",
     "output_type": "stream",
     "text": [
      "Animals in the Shelter:\n",
      "Buddy the Dog is 3 years old and is available for adoption.\n",
      "Whiskers the Cat is 2 years old and is adopted.\n",
      "Chirpy the Bird is 1 years old and is available for adoption.\n",
      "Nibbles the Rabbit is 4 years old and is available for adoption.\n",
      "Goldie the Fish is 1 years old and is available for adoption.\n",
      "Spike the Lizard is 5 years old and is available for adoption.\n"
     ]
    }
   ],
   "source": [
    "class Shelter:\n",
    "    def __init__(self, animals):\n",
    "        self.animals = animals  # Initialize\n",
    "shelter_example = Shelter(animals=animals)\n",
    "\n",
    "print(\"Animals in the Shelter:\")\n",
    "for animal in shelter_example.animals:\n",
    "    print(animal)"
   ]
  },
  {
   "cell_type": "markdown",
   "metadata": {},
   "source": [
    "## b)Check Animal Availability"
   ]
  },
  {
   "cell_type": "code",
   "execution_count": 6,
   "metadata": {},
   "outputs": [
    {
     "name": "stdout",
     "output_type": "stream",
     "text": [
      "Is there an available dog in the shelter? True\n"
     ]
    }
   ],
   "source": [
    "class Animal:\n",
    "    def __init__(self, name, species, age):\n",
    "        self.name = name\n",
    "        self.species = species\n",
    "        self.age = age\n",
    "        self.is_adopted = False \n",
    "\n",
    "    def __str__(self):\n",
    "        status = \"adopted\" if self.is_adopted else \"available for adoption\"\n",
    "        return f\"{self.name} the {self.species} is {self.age} years old and is {status}.\"\n",
    "\n",
    "    def adopt(self):\n",
    "        if not self.is_adopted:\n",
    "            self.is_adopted = True\n",
    "        else:\n",
    "            print(f\"{self.name} has already been adopted.\")\n",
    "\n",
    "class Shelter:\n",
    "    def __init__(self, animals):\n",
    "        self.animals = animals  # Initialize with a list of Animal objects\n",
    "\n",
    "    def check_availability(self, species):\n",
    "        # Check if there is an available animal of the given species\n",
    "        for animal in self.animals:\n",
    "            if animal.species.lower() == species.lower() and not animal.is_adopted:\n",
    "                return True\n",
    "        return False\n",
    "\n",
    "animals_data = [\n",
    "    {\"name\": \"Buddy\", \"species\": \"Dog\", \"age\": 3},\n",
    "    {\"name\": \"Whiskers\", \"species\": \"Cat\", \"age\": 2},\n",
    "    {\"name\": \"Chirpy\", \"species\": \"Bird\", \"age\": 1},\n",
    "    {\"name\": \"Nibbles\", \"species\": \"Rabbit\", \"age\": 4},\n",
    "    {\"name\": \"Goldie\", \"species\": \"Fish\", \"age\": 1},\n",
    "    {\"name\": \"Spike\", \"species\": \"Lizard\", \"age\": 5}\n",
    "]\n",
    "animals = [Animal(**data) for data in animals_data]\n",
    "shelter_example = Shelter(animals=animals)\n",
    "#check availability of dog\n",
    "#create a availability_dog\n",
    "availability_dog = shelter_example.check_availability(\"Dog\")\n",
    "print(\"Is there an available dog in the shelter?\", availability_dog)"
   ]
  },
  {
   "cell_type": "markdown",
   "metadata": {},
   "source": [
    "## c)List Available Animals by Species"
   ]
  },
  {
   "cell_type": "code",
   "execution_count": 7,
   "metadata": {},
   "outputs": [
    {
     "name": "stdout",
     "output_type": "stream",
     "text": [
      "Available Cats in the shelter: ['Whiskers the Cat is 2 years old and is available for adoption.']\n"
     ]
    }
   ],
   "source": [
    "class Shelter:\n",
    "    def __init__(self, animals):\n",
    "        self.animals = animals  \n",
    "    def check_availability(self, species):\n",
    "        for animal in self.animals:\n",
    "            if animal.species.lower() == species.lower() and not animal.is_adopted:\n",
    "                return True\n",
    "        return False\n",
    "    def list_by_species(self, species):\n",
    "        available_animals = [\n",
    "            animal for animal in self.animals if animal.species.lower() == species.lower() and not animal.is_adopted\n",
    "        ]\n",
    "        return available_animals\n",
    "\n",
    "shelter_example = Shelter(animals=animals)\n",
    "\n",
    "# Listing all available \"Cat\" and the result\n",
    "available_cats = shelter_example.list_by_species(\"Cat\")\n",
    "available_cats_list = [str(cat) for cat in available_cats]  # Convert Animal objects to string representation\n",
    "print(\"Available Cats in the shelter:\", available_cats_list)"
   ]
  },
  {
   "cell_type": "markdown",
   "metadata": {},
   "source": [
    "## Bonus"
   ]
  },
  {
   "cell_type": "code",
   "execution_count": 8,
   "metadata": {},
   "outputs": [
    {
     "name": "stdout",
     "output_type": "stream",
     "text": [
      "Average weight of available Dogs: 20.5 kg\n",
      "Average weight of available Fish: 0.1 kg\n"
     ]
    }
   ],
   "source": [
    "# add weight attribute and update_weight\n",
    "class Animal:\n",
    "    def __init__(self, name, species, age, weight):\n",
    "        self.name = name\n",
    "        self.species = species\n",
    "        self.age = age\n",
    "        self.weight = weight  # Adding weight \n",
    "        self.is_adopted = False  \n",
    "        \n",
    "    def __str__(self):\n",
    "        status = \"adopted\" if self.is_adopted else \"available for adoption\"\n",
    "        return f\"{self.name} the {self.species} is {self.age} years old, weighs {self.weight} kg, and is {status}.\"\n",
    "\n",
    "    def adopt(self):\n",
    "        if not self.is_adopted:\n",
    "            self.is_adopted = True\n",
    "        else:\n",
    "            print(f\"{self.name} has already been adopted.\")\n",
    "\n",
    "    def update_weight(self, new_weight):\n",
    "        if new_weight >= 0:\n",
    "            self.weight = new_weight\n",
    "        # Update weight makesure the new weight is positive\n",
    "        else:\n",
    "            print(\"Weight cannot be negative.\")\n",
    "\n",
    "class Shelter:\n",
    "    def __init__(self, animals):\n",
    "        self.animals = animals  \n",
    "\n",
    "    def check_availability(self, species):\n",
    "        for animal in self.animals:\n",
    "            if animal.species.lower() == species.lower() and not animal.is_adopted:\n",
    "                return True\n",
    "        return False\n",
    "\n",
    "    def list_by_species(self, species):\n",
    "        available_animals = [\n",
    "            animal for animal in self.animals \n",
    "            if animal.species.lower() == species.lower() and not animal.is_adopted\n",
    "        ]\n",
    "        return available_animals\n",
    "\n",
    "    def average_weight_by_species(self, species):\n",
    "        # Calculate the average weight of all available animals of the given species\n",
    "        available_animals = self.list_by_species(species)\n",
    "        if available_animals:\n",
    "            total_weight = sum(animal.weight for animal in available_animals)\n",
    "            average_weight = total_weight / len(available_animals)\n",
    "            return average_weight\n",
    "        else:\n",
    "            return None\n",
    "\n",
    "animals_data = [\n",
    "    {\"name\": \"Buddy\", \"species\": \"Dog\", \"age\": 3, \"weight\": 20.5},\n",
    "    {\"name\": \"Whiskers\", \"species\": \"Cat\", \"age\": 2, \"weight\": 4.2},\n",
    "    {\"name\": \"Chirpy\", \"species\": \"Bird\", \"age\": 1, \"weight\": 0.3},\n",
    "    {\"name\": \"Nibbles\", \"species\": \"Rabbit\", \"age\": 4, \"weight\": 2.1},\n",
    "    {\"name\": \"Goldie\", \"species\": \"Fish\", \"age\": 1, \"weight\": 0.1},\n",
    "    {\"name\": \"Spike\", \"species\": \"Lizard\", \"age\": 5, \"weight\": 0.5}\n",
    "]\n",
    "\n",
    "# Initializing the animals with weight attribute\n",
    "animals = [Animal(**data) for data in animals_data]\n",
    "shelter_example = Shelter(animals=animals)\n",
    "\n",
    "# Demonstrating the average_weight_by_species method\n",
    "average_weight_dog = shelter_example.average_weight_by_species(\"Dog\")\n",
    "average_weight_fish = shelter_example.average_weight_by_species(\"Fish\")\n",
    "\n",
    "# Printing the results\n",
    "print(\"Average weight of available Dogs:\", average_weight_dog, \"kg\")\n",
    "print(\"Average weight of available Fish:\", average_weight_fish, \"kg\")"
   ]
  },
  {
   "cell_type": "code",
   "execution_count": null,
   "metadata": {},
   "outputs": [],
   "source": []
  }
 ],
 "metadata": {
  "kernelspec": {
   "display_name": "Python 3",
   "language": "python",
   "name": "python3"
  },
  "language_info": {
   "codemirror_mode": {
    "name": "ipython",
    "version": 3
   },
   "file_extension": ".py",
   "mimetype": "text/x-python",
   "name": "python",
   "nbconvert_exporter": "python",
   "pygments_lexer": "ipython3",
   "version": "3.8.3"
  }
 },
 "nbformat": 4,
 "nbformat_minor": 4
}
