{
 "cells": [
  {
   "cell_type": "markdown",
   "metadata": {},
   "source": [
    "# QMSS G5072 Homework 5\n",
    "## Exercise 1. Engine Incidents and Failures\n",
    "### a) Extracting Engine Incidents\n"
   ]
  },
  {
   "cell_type": "code",
   "execution_count": 3,
   "metadata": {},
   "outputs": [],
   "source": [
    "#load data\n",
    "import pandas as pd\n",
    "import re\n",
    "import matplotlib.pyplot as plt\n",
    "import random\n",
    "ntsb = pd.read_csv('ntsb_narratives_2021_2024.csv')"
   ]
  },
  {
   "cell_type": "code",
   "execution_count": 5,
   "metadata": {},
   "outputs": [
    {
     "data": {
      "text/html": [
       "<div>\n",
       "<style scoped>\n",
       "    .dataframe tbody tr th:only-of-type {\n",
       "        vertical-align: middle;\n",
       "    }\n",
       "\n",
       "    .dataframe tbody tr th {\n",
       "        vertical-align: top;\n",
       "    }\n",
       "\n",
       "    .dataframe thead th {\n",
       "        text-align: right;\n",
       "    }\n",
       "</style>\n",
       "<table border=\"1\" class=\"dataframe\">\n",
       "  <thead>\n",
       "    <tr style=\"text-align: right;\">\n",
       "      <th></th>\n",
       "      <th>ev_id</th>\n",
       "      <th>year</th>\n",
       "      <th>narrative</th>\n",
       "    </tr>\n",
       "  </thead>\n",
       "  <tbody>\n",
       "    <tr>\n",
       "      <th>0</th>\n",
       "      <td>20080219X00203</td>\n",
       "      <td>2022</td>\n",
       "      <td>During a cross country flight the pilot of a C...</td>\n",
       "    </tr>\n",
       "    <tr>\n",
       "      <th>1</th>\n",
       "      <td>20080514X00667</td>\n",
       "      <td>2024</td>\n",
       "      <td>This incident occurred when United Airlines fl...</td>\n",
       "    </tr>\n",
       "    <tr>\n",
       "      <th>2</th>\n",
       "      <td>20080416X00494</td>\n",
       "      <td>2022</td>\n",
       "      <td>The pilot planed a flight from Frederick, Mary...</td>\n",
       "    </tr>\n",
       "    <tr>\n",
       "      <th>3</th>\n",
       "      <td>20080213X00186</td>\n",
       "      <td>2022</td>\n",
       "      <td>While on climb out from the airport, the pilot...</td>\n",
       "    </tr>\n",
       "    <tr>\n",
       "      <th>4</th>\n",
       "      <td>20080222X00229</td>\n",
       "      <td>2024</td>\n",
       "      <td>go! flight 1002 departed for its destination a...</td>\n",
       "    </tr>\n",
       "    <tr>\n",
       "      <th>...</th>\n",
       "      <td>...</td>\n",
       "      <td>...</td>\n",
       "      <td>...</td>\n",
       "    </tr>\n",
       "    <tr>\n",
       "      <th>5904</th>\n",
       "      <td>20240805194841</td>\n",
       "      <td>2024</td>\n",
       "      <td>The student pilot reported that while landing ...</td>\n",
       "    </tr>\n",
       "    <tr>\n",
       "      <th>5905</th>\n",
       "      <td>20240817194942</td>\n",
       "      <td>2024</td>\n",
       "      <td>According to the flight instructor, the wind w...</td>\n",
       "    </tr>\n",
       "    <tr>\n",
       "      <th>5906</th>\n",
       "      <td>20240820194969</td>\n",
       "      <td>2024</td>\n",
       "      <td>The pilot reported flying a normal approach an...</td>\n",
       "    </tr>\n",
       "    <tr>\n",
       "      <th>5907</th>\n",
       "      <td>20240821194973</td>\n",
       "      <td>2024</td>\n",
       "      <td>Before the landing, the pilot told the flight ...</td>\n",
       "    </tr>\n",
       "    <tr>\n",
       "      <th>5908</th>\n",
       "      <td>20240821194976</td>\n",
       "      <td>2024</td>\n",
       "      <td>The pilot was landing the tailwheel-equipped a...</td>\n",
       "    </tr>\n",
       "  </tbody>\n",
       "</table>\n",
       "<p>5909 rows × 3 columns</p>\n",
       "</div>"
      ],
      "text/plain": [
       "               ev_id  year                                          narrative\n",
       "0     20080219X00203  2022  During a cross country flight the pilot of a C...\n",
       "1     20080514X00667  2024  This incident occurred when United Airlines fl...\n",
       "2     20080416X00494  2022  The pilot planed a flight from Frederick, Mary...\n",
       "3     20080213X00186  2022  While on climb out from the airport, the pilot...\n",
       "4     20080222X00229  2024  go! flight 1002 departed for its destination a...\n",
       "...              ...   ...                                                ...\n",
       "5904  20240805194841  2024  The student pilot reported that while landing ...\n",
       "5905  20240817194942  2024  According to the flight instructor, the wind w...\n",
       "5906  20240820194969  2024  The pilot reported flying a normal approach an...\n",
       "5907  20240821194973  2024  Before the landing, the pilot told the flight ...\n",
       "5908  20240821194976  2024  The pilot was landing the tailwheel-equipped a...\n",
       "\n",
       "[5909 rows x 3 columns]"
      ]
     },
     "execution_count": 5,
     "metadata": {},
     "output_type": "execute_result"
    }
   ],
   "source": [
    "ntsb\n",
    "#look the data"
   ]
  },
  {
   "cell_type": "code",
   "execution_count": 7,
   "metadata": {},
   "outputs": [
    {
     "name": "stdout",
     "output_type": "stream",
     "text": [
      "Number of engine-related incidents: 2940\n"
     ]
    }
   ],
   "source": [
    "# Create a column 'engine' that marks incidents containing the word \"engine\" or \"engines\" \n",
    "ntsb['engine'] = ntsb['narrative'].str.contains(r'\\bengine(?:s)?\\b', case=False, regex=True)\n",
    "#Count the number\n",
    "engine_related_count = ntsb['engine'].sum()\n",
    "print(\"Number of engine-related incidents:\", engine_related_count)"
   ]
  },
  {
   "cell_type": "markdown",
   "metadata": {},
   "source": [
    "### b) Use regular expressions to specifically extract narratives that describe engine failures, differentiating them from general engine incidents."
   ]
  },
  {
   "cell_type": "code",
   "execution_count": 9,
   "metadata": {},
   "outputs": [
    {
     "name": "stdout",
     "output_type": "stream",
     "text": [
      "Total narratives: 5909\n",
      "Number of narratives mentioning 'engine': 2940\n",
      "Proportion of narratives mentioning 'engine': 49.75%\n",
      "Number of narratives identified as engine failures: 770\n",
      "Proportion of engine mentions identified as failures: 26.19%\n"
     ]
    }
   ],
   "source": [
    "failure_pattern = r'\\b(?:\\w+\\s)?(?:\\w+\\s)?engine(?:s)?\\s(?:failure|failed|stopped|lost|shutdown|quit)\\b|\\b(?:failure|failed|stopped|lost|shutdown|quit)\\sengine(?:s)?\\b'\n",
    "\n",
    "# Create a boolean column 'engine_failure'\n",
    "ntsb['engine_failure'] = ntsb['narrative'].str.contains(failure_pattern, case=False, regex=True)\n",
    "# Summary data\n",
    "total_narratives = len(ntsb)\n",
    "engine_mentions = ntsb['engine'].sum()\n",
    "engine_failures = ntsb['engine_failure'].sum()\n",
    "# Calculate proportions\n",
    "engine_mention_proportion = engine_mentions / total_narratives\n",
    "failure_proportion = engine_failures / engine_mentions if engine_mentions > 0 else 0\n",
    "# show results\n",
    "print(f\"Total narratives: {total_narratives}\")\n",
    "print(f\"Number of narratives mentioning 'engine': {engine_mentions}\")\n",
    "print(f\"Proportion of narratives mentioning 'engine': {engine_mention_proportion:.2%}\")\n",
    "print(f\"Number of narratives identified as engine failures: {engine_failures}\")\n",
    "print(f\"Proportion of engine mentions identified as failures: {failure_proportion:.2%}\")"
   ]
  },
  {
   "cell_type": "markdown",
   "metadata": {},
   "source": [
    "### c) Randomly select 10 entries from the dataset. Display the portion of the narratives with the 2 words before and after the mention of engine, alongside your two new variables engine and engine_failure. Briefly discuss how this identification process could be improved. Mention potential issues with false positives or missed entries"
   ]
  },
  {
   "cell_type": "code",
   "execution_count": 18,
   "metadata": {},
   "outputs": [
    {
     "data": {
      "text/html": [
       "<div>\n",
       "<style scoped>\n",
       "    .dataframe tbody tr th:only-of-type {\n",
       "        vertical-align: middle;\n",
       "    }\n",
       "\n",
       "    .dataframe tbody tr th {\n",
       "        vertical-align: top;\n",
       "    }\n",
       "\n",
       "    .dataframe thead th {\n",
       "        text-align: right;\n",
       "    }\n",
       "</style>\n",
       "<table border=\"1\" class=\"dataframe\">\n",
       "  <thead>\n",
       "    <tr style=\"text-align: right;\">\n",
       "      <th></th>\n",
       "      <th>narrative</th>\n",
       "      <th>engine_context</th>\n",
       "      <th>engine</th>\n",
       "      <th>engine_failure</th>\n",
       "    </tr>\n",
       "  </thead>\n",
       "  <tbody>\n",
       "    <tr>\n",
       "      <th>2114</th>\n",
       "      <td>The airplane owner reported that the accident ...</td>\n",
       "      <td>and the engine was running</td>\n",
       "      <td>True</td>\n",
       "      <td>False</td>\n",
       "    </tr>\n",
       "    <tr>\n",
       "      <th>5192</th>\n",
       "      <td>The pilot reported that before his 12th aerial...</td>\n",
       "      <td>and the engine separated from</td>\n",
       "      <td>True</td>\n",
       "      <td>False</td>\n",
       "    </tr>\n",
       "    <tr>\n",
       "      <th>5169</th>\n",
       "      <td>The pilot and the flight instructor were perfo...</td>\n",
       "      <td>engine airplane</td>\n",
       "      <td>True</td>\n",
       "      <td>False</td>\n",
       "    </tr>\n",
       "    <tr>\n",
       "      <th>3679</th>\n",
       "      <td>The pilot and pilot-rated passenger completed ...</td>\n",
       "      <td>of the engine and engine</td>\n",
       "      <td>True</td>\n",
       "      <td>False</td>\n",
       "    </tr>\n",
       "    <tr>\n",
       "      <th>574</th>\n",
       "      <td>While conducting takeoffs and landings during ...</td>\n",
       "      <td>the engine began to</td>\n",
       "      <td>True</td>\n",
       "      <td>False</td>\n",
       "    </tr>\n",
       "    <tr>\n",
       "      <th>4693</th>\n",
       "      <td>The solo student pilot reported that he landed...</td>\n",
       "      <td>The engine mount was</td>\n",
       "      <td>True</td>\n",
       "      <td>False</td>\n",
       "    </tr>\n",
       "    <tr>\n",
       "      <th>4902</th>\n",
       "      <td>The flight instructor reported that prior to h...</td>\n",
       "      <td>of the engine cowling opened</td>\n",
       "      <td>True</td>\n",
       "      <td>False</td>\n",
       "    </tr>\n",
       "    <tr>\n",
       "      <th>5653</th>\n",
       "      <td>The airplane’s engine momentarily lost power w...</td>\n",
       "      <td>s engine momentarily lost</td>\n",
       "      <td>True</td>\n",
       "      <td>False</td>\n",
       "    </tr>\n",
       "    <tr>\n",
       "      <th>1644</th>\n",
       "      <td>The pilot-rated passenger reported that before...</td>\n",
       "      <td>performed an engine run</td>\n",
       "      <td>True</td>\n",
       "      <td>True</td>\n",
       "    </tr>\n",
       "    <tr>\n",
       "      <th>2131</th>\n",
       "      <td>The pilot of the experimental, amateur-built a...</td>\n",
       "      <td>when the engine momentarily lost</td>\n",
       "      <td>True</td>\n",
       "      <td>True</td>\n",
       "    </tr>\n",
       "  </tbody>\n",
       "</table>\n",
       "</div>"
      ],
      "text/plain": [
       "                                              narrative  \\\n",
       "2114  The airplane owner reported that the accident ...   \n",
       "5192  The pilot reported that before his 12th aerial...   \n",
       "5169  The pilot and the flight instructor were perfo...   \n",
       "3679  The pilot and pilot-rated passenger completed ...   \n",
       "574   While conducting takeoffs and landings during ...   \n",
       "4693  The solo student pilot reported that he landed...   \n",
       "4902  The flight instructor reported that prior to h...   \n",
       "5653  The airplane’s engine momentarily lost power w...   \n",
       "1644  The pilot-rated passenger reported that before...   \n",
       "2131  The pilot of the experimental, amateur-built a...   \n",
       "\n",
       "                        engine_context  engine  engine_failure  \n",
       "2114        and the engine was running    True           False  \n",
       "5192     and the engine separated from    True           False  \n",
       "5169                   engine airplane    True           False  \n",
       "3679          of the engine and engine    True           False  \n",
       "574                the engine began to    True           False  \n",
       "4693              The engine mount was    True           False  \n",
       "4902      of the engine cowling opened    True           False  \n",
       "5653         s engine momentarily lost    True           False  \n",
       "1644           performed an engine run    True            True  \n",
       "2131  when the engine momentarily lost    True            True  "
      ]
     },
     "execution_count": 18,
     "metadata": {},
     "output_type": "execute_result"
    }
   ],
   "source": [
    "#random select\n",
    "sample_entries = ntsb[ntsb['engine']].sample(10, random_state=1)\n",
    "\n",
    "def extract_context(text):\n",
    "    match = re.search(r'(\\b\\w+\\b\\s){0,2}engine(s)?(\\s\\b\\w+\\b){0,2}', text, re.IGNORECASE)\n",
    "    if match:\n",
    "        return match.group(0).strip()\n",
    "    return \"No context found\"\n",
    "# Apply the function to get the context for each sampled narrative\n",
    "sample_entries['engine_context'] = sample_entries['narrative'].apply(extract_context)\n",
    "# Select relevant columns \n",
    "display_columns = sample_entries[['narrative', 'engine_context', 'engine', 'engine_failure']]\n",
    "# Display the DataFrame with the selected entries\n",
    "display_columns\n"
   ]
  },
  {
   "cell_type": "code",
   "execution_count": 17,
   "metadata": {},
   "outputs": [
    {
     "name": "stdout",
     "output_type": "stream",
     "text": [
      "our method have some problem like it only consider simple pattern, some failure incidents without explicit terms such as stoped or using abbreviations will missing by using our ways. We can make some improvement by consider more situation like expanding the list of keywords of failure event and have a detail llok at the data. \n"
     ]
    }
   ],
   "source": [
    "# answer\n",
    "print(f\"our method have some problem like it only consider simple pattern, some failure incidents without explicit terms such as stoped or using abbreviations will missing by using our ways. We can make some improvement by consider more situation like expanding the list of keywords of failure event and have a detail llok at the data. \")"
   ]
  },
  {
   "cell_type": "markdown",
   "metadata": {},
   "source": [
    "## 2. Extracting the Time of Day\n",
    "### a) Use regular expressions to extract the time of day from the narratives. "
   ]
  },
  {
   "cell_type": "code",
   "execution_count": 22,
   "metadata": {},
   "outputs": [
    {
     "name": "stdout",
     "output_type": "stream",
     "text": [
      "                                           narrative time_of_day\n",
      "0  During a cross country flight the pilot of a C...        00:0\n",
      "1  This incident occurred when United Airlines fl...        07:7\n",
      "4  go! flight 1002 departed for its destination a...       10:10\n",
      "5  ** This report was modified on July 5, 2023. P...       20:20\n",
      "6  The pilot was asked by a ferry company represe...        00:0\n",
      "Number of narratives with time mentioned: 2137\n",
      "Proportion of narratives with time mentioned: 36.17%\n"
     ]
    }
   ],
   "source": [
    "# time_pattern consider am/pm,pattern\n",
    "time_pattern = r'\\b((1[0-2]|0?[1-9]):([0-5][0-9])\\s?(AM|PM)|([01]?[0-9]|2[0-3])[0-5][0-9]|([01]?[0-9]|2[0-3]):([0-5][0-9]))\\b'\n",
    "\n",
    "# Function convert captured time to a 24-hour format string\n",
    "def extract_time(text):\n",
    "    match = re.search(time_pattern, text, re.IGNORECASE)\n",
    "    if match:\n",
    "        if match.group(4):  # If AM/PM is present\n",
    "            hour, minute, period = int(match.group(2)), match.group(3), match.group(4).upper()\n",
    "            if period == 'PM' and hour != 12:\n",
    "                hour += 12\n",
    "            elif period == 'AM' and hour == 12:\n",
    "                hour = 0\n",
    "            return f\"{hour:02}:{minute}\"\n",
    "        elif match.group(5):  # If 24-hour format like 0940 is present\n",
    "            hour, minute = match.group(5)[:2], match.group(5)[-2:]\n",
    "            return f\"{int(hour):02}:{minute}\"\n",
    "        elif match.group(6):  # If 24-hour format with colon like 14:30 is present\n",
    "            return f\"{int(match.group(6)):02}:{match.group(7)}\"\n",
    "    return \"\"\n",
    "\n",
    "# create a new column 'time_of_day'\n",
    "ntsb['time_of_day'] = ntsb['narrative'].apply(extract_time)\n",
    "\n",
    "# Display the first 5 entries where 'time_of_day' is successfully extracted\n",
    "time_extracted_entries = ntsb[ntsb['time_of_day'] != \"\"].head(5)\n",
    "print(time_extracted_entries[['narrative', 'time_of_day']])\n",
    "\n",
    "# Summary data on how many narratives contain a time mention\n",
    "time_mention_count = ntsb['time_of_day'].apply(lambda x: x != \"\").sum()\n",
    "total_narratives = len(ntsb)\n",
    "time_mention_proportion = time_mention_count / total_narratives\n",
    "\n",
    "print(f\"Number of narratives with time mentioned: {time_mention_count}\")\n",
    "print(f\"Proportion of narratives with time mentioned: {time_mention_proportion:.2%}\")"
   ]
  },
  {
   "cell_type": "markdown",
   "metadata": {},
   "source": [
    "### b) Analyze the relationship between time of day and engine failures. Create a bar plot where the x-axis represents the hour of day and the y-axis represents the proportion of engine failures (as a share of all mentions of the aircraft model). Comment briefly on what you found.\n"
   ]
  },
  {
   "cell_type": "code",
   "execution_count": 23,
   "metadata": {},
   "outputs": [
    {
     "data": {
      "image/png": "[encoded data removed]",
      "text/plain": [
       "<Figure size 720x432 with 1 Axes>"
      ]
     },
     "metadata": {
      "needs_background": "light"
     },
     "output_type": "display_data"
    }
   ],
   "source": [
    "# Extract the hour from the 'time_of_day' column\n",
    "ntsb['hour_of_day'] = ntsb['time_of_day'].apply(lambda x: int(x.split(':')[0]) if x else None)\n",
    "\n",
    "# Filter only entries with a valid hour\n",
    "ntsb_with_hour = ntsb[ntsb['hour_of_day'].notna()]\n",
    "\n",
    "# Group by hour, calculate the proportion of engine failures\n",
    "hourly_data = ntsb_with_hour.groupby('hour_of_day').apply(\n",
    "    lambda x: x['engine_failure'].sum() / x['engine'].sum() if x['engine'].sum() > 0 else 0\n",
    ").reset_index(name='failure_proportion')\n",
    "\n",
    "# Plot data\n",
    "plt.figure(figsize=(10, 6))\n",
    "plt.bar(hourly_data['hour_of_day'], hourly_data['failure_proportion'], width=0.8)\n",
    "plt.xlabel('Hour of Day')\n",
    "plt.ylabel('Proportion of Engine Failures')\n",
    "plt.title('Proportion of Engine Failures by Hour of Day')\n",
    "plt.xticks(range(0, 24))  # Set x-axis to show each hour\n",
    "plt.show()"
   ]
  },
  {
   "cell_type": "markdown",
   "metadata": {},
   "source": [
    "###### 19:00 hours have highest failure proportions, potentially indicating this times failures happened frequently may due to several factor like weather or use frequenly.\n",
    "###### in the afternoon is tend to have a lower proportions, which could reflect times of less activity or reduced operational stress on engines."
   ]
  },
  {
   "cell_type": "markdown",
   "metadata": {},
   "source": [
    "### 3. Identifying Aircraft Models for a Common Manufacturer"
   ]
  },
  {
   "cell_type": "markdown",
   "metadata": {},
   "source": [
    "#### a)"
   ]
  },
  {
   "cell_type": "code",
   "execution_count": 26,
   "metadata": {},
   "outputs": [
    {
     "name": "stdout",
     "output_type": "stream",
     "text": [
      "Manufacturer Mentions and Engine Failure Share:\n",
      "  manufacturer  mentions  engine_failure_share\n",
      "0       Airbus      36.0              0.055556\n",
      "1   Beechcraft       2.0              0.000000\n",
      "2       Boeing      70.0              0.057143\n",
      "3   Bombardier       9.0              0.000000\n",
      "4       Cessna      51.0              0.058824\n",
      "5       Cirrus      11.0              0.000000\n",
      "6      Embraer      16.0              0.000000\n",
      "7       Mooney       6.0              0.166667\n",
      "8        Piper      20.0              0.050000\n",
      "9     Robinson       1.0              0.000000\n"
     ]
    }
   ],
   "source": [
    "\n",
    "manufacturers = ['Cessna', 'Piper', 'Beechcraft', 'Boeing', 'Airbus', 'Cirrus', 'Robinson', 'Embraer', 'Bombardier', 'Mooney']\n",
    "\n",
    "# Create a regex pattern to match any of the manufacturers\n",
    "manufacturer_pattern = r'\\b(' + '|'.join(manufacturers) + r')\\b'\n",
    "\n",
    "# Function to identify the manufacturer in each narrative\n",
    "def find_manufacturer(text):\n",
    "    match = re.search(manufacturer_pattern, text, re.IGNORECASE)\n",
    "    return match.group(1) if match else \"\"\n",
    "\n",
    "# create a new column 'manufacturer'\n",
    "ntsb['manufacturer'] = ntsb['narrative'].apply(find_manufacturer)\n",
    "\n",
    "# Filter only entries where a manufacturer was identified\n",
    "manufacturer_df = ntsb[ntsb['manufacturer'] != \"\"]\n",
    "\n",
    "# Count mentions and calculate share of engine failures for each manufacturer\n",
    "manufacturer_stats = manufacturer_df.groupby('manufacturer').apply(\n",
    "    lambda x: pd.Series({\n",
    "        'mentions': len(x),                                          \n",
    "        'engine_failure_share': x['engine_failure'].sum() / len(x)   \n",
    "    })\n",
    ").reset_index()\n",
    "\n",
    "# Display the table of manufacturer mentions and engine failure share\n",
    "print(\"Manufacturer Mentions and Engine Failure Share:\")\n",
    "print(manufacturer_stats)"
   ]
  },
  {
   "cell_type": "markdown",
   "metadata": {},
   "source": [
    "#### b)"
   ]
  },
  {
   "cell_type": "code",
   "execution_count": 29,
   "metadata": {},
   "outputs": [
    {
     "name": "stdout",
     "output_type": "stream",
     "text": [
      "The most common manufacturer identified: Boeing\n",
      "  specific_model  model_mentions  engine_related_share  engine_failure_share\n",
      "0            737            27.0              0.185185                  0.40\n",
      "1            747             2.0              0.000000                  0.00\n",
      "2            757            10.0              0.200000                  0.00\n",
      "3            767             5.0              0.800000                  0.25\n",
      "4            777             8.0              0.500000                  0.25\n",
      "5            787             3.0              0.000000                  0.00\n",
      "6           B737             3.0              0.000000                  0.00\n",
      "7           B747             1.0              1.000000                  0.00\n",
      "8           B767             1.0              0.000000                  0.00\n",
      "9           B777             1.0              0.000000                  0.00\n"
     ]
    }
   ],
   "source": [
    "most_common_manufacturer = manufacturer_stats.loc[manufacturer_stats['mentions'].idxmax(), 'manufacturer']\n",
    "print(f\"The most common manufacturer identified: {most_common_manufacturer}\")\n",
    "\n",
    "# Define regex pattern for extracting models related to the most common manufacturer\n",
    "# This pattern captures variations like \"Cessna 172\", \"Cessna-172\", \"172 Cessna\"\n",
    "model_pattern = rf'\\b({most_common_manufacturer})[\\s-]?(\\w+\\d+)|(\\w+\\d+)[\\s-]?({most_common_manufacturer})\\b'\n",
    "\n",
    "# Function to extract the model for the most common manufacturer\n",
    "def extract_model(text):\n",
    "    match = re.search(model_pattern, text, re.IGNORECASE)\n",
    "    if match:\n",
    "        # Capture the model based on whether it appears before or after the manufacturer name\n",
    "        return match.group(2) if match.group(2) else match.group(3)\n",
    "    return \"\"\n",
    "\n",
    "# Apply the function to create a new column 'specific_model' for the extracted models\n",
    "ntsb['specific_model'] = ntsb['narrative'].apply(extract_model)\n",
    "\n",
    "# Filter dataset to entries with identified models of the most common manufacturer\n",
    "models_df = ntsb[(ntsb['manufacturer'] == most_common_manufacturer) & (ntsb['specific_model'] != \"\")]\n",
    "\n",
    "# Calculate statistics for each model of the most common manufacturer\n",
    "model_stats = models_df.groupby('specific_model').apply(\n",
    "    lambda x: pd.Series({\n",
    "        'model_mentions': len(x),                                       \n",
    "        'engine_related_share': x['engine'].sum() / len(x),             #\n",
    "        'engine_failure_share': x['engine_failure'].sum() / x['engine'].sum() if x['engine'].sum() > 0 else 0  # Share of engine failures\n",
    "    })\n",
    ").reset_index()\n",
    "\n",
    "\n",
    "print(model_stats)"
   ]
  }
 ],
 "metadata": {
  "kernelspec": {
   "display_name": "Python 3",
   "language": "python",
   "name": "python3"
  },
  "language_info": {
   "codemirror_mode": {
    "name": "ipython",
    "version": 3
   },
   "file_extension": ".py",
   "mimetype": "text/x-python",
   "name": "python",
   "nbconvert_exporter": "python",
   "pygments_lexer": "ipython3",
   "version": "3.8.3"
  }
 },
 "nbformat": 4,
 "nbformat_minor": 4
}
