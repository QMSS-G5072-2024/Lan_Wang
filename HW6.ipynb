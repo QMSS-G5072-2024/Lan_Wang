{
 "cells": [
  {
   "cell_type": "markdown",
   "metadata": {},
   "source": [
    "# 1 \n",
    "### part 1: Define the game functions (initialize_board, make_move, check_winner, and reset_game)"
   ]
  },
  {
   "cell_type": "code",
   "execution_count": 13,
   "metadata": {},
   "outputs": [
    {
     "name": "stdout",
     "output_type": "stream",
     "text": [
      "Writing tictactoe.py\n"
     ]
    }
   ],
   "source": [
    "%%file tictactoe.py\n",
    "def initialize_board():\n",
    "    \"\"\"Creates a 3x3 Tic-Tac-Toe board initialized with empty spaces.\"\"\"\n",
    "    return [[' ' for _ in range(3)] for _ in range(3)]\n",
    "\n",
    "def make_move(board, row, col, player):\n",
    "    \"\"\"\n",
    "    Places the player's symbol ('X' or 'O') on the board at the specified position.\n",
    "    \n",
    "    Args:\n",
    "        board (list):current game board.\n",
    "        row (int): row index (0-based).\n",
    "        col (int): column index (0-based).\n",
    "        player (str): The player's symbol ('X' or 'O').\n",
    "\n",
    "    Returns:\n",
    "        bool: True if the move was successful, False otherwise.\n",
    "    \"\"\"\n",
    "    if board[row][col] == ' ':\n",
    "        board[row][col] = player\n",
    "        return True\n",
    "    return False\n",
    "\n",
    "def check_winner(board):\n",
    "    \"\"\"\n",
    "    Checks the current board for a winner.\n",
    "\n",
    "    Args:\n",
    "        board (list): The current game board.\n",
    "\n",
    "    Returns:\n",
    "        str: 'X' or 'O' if there is a winner, 'Draw' if it's a draw, or None if the game is ongoing.\n",
    "    \"\"\"\n",
    "    # Check rows, columns, and diagonals\n",
    "    lines = board + list(zip(*board))  # Rows and columns\n",
    "    lines.append([board[i][i] for i in range(3)])  # Main diagonal\n",
    "    lines.append([board[i][2-i] for i in range(3)])  # Anti-diagonal\n",
    "\n",
    "    for line in lines:\n",
    "        if all(cell == 'X' for cell in line):\n",
    "            return 'X'\n",
    "        if all(cell == 'O' for cell in line):\n",
    "            return 'O'\n",
    "    \n",
    "    # Check for draw\n",
    "    if all(cell != ' ' for row in board for cell in row):\n",
    "        return 'Draw'\n",
    "    \n",
    "    return None\n",
    "\n",
    "def reset_game():\n",
    "    \"\"\"Resets the game by reinitializing the board.\"\"\"\n",
    "    return initialize_board()"
   ]
  },
  {
   "cell_type": "code",
   "execution_count": 14,
   "metadata": {},
   "outputs": [],
   "source": [
    "# write test function\n",
    "def test_initialize_board():\n",
    "    board = initialize_board()\n",
    "    assert len(board) == 3, \"Board should have 3 rows.\"\n",
    "    assert all(len(row) == 3 for row in board), \"Each row should have 3 columns.\"\n",
    "    assert all(cell == ' ' for row in board for cell in row), \"All cells should be initialized as empty.\"\n",
    "\n"
   ]
  },
  {
   "cell_type": "code",
   "execution_count": 15,
   "metadata": {},
   "outputs": [],
   "source": [
    "def test_make_move_valid():\n",
    "    board = initialize_board()\n",
    "    success_x = make_move(board, 0, 0, 'X')\n",
    "    assert success_x is True, \"Move should be successful for an empty cell.\"\n",
    "    assert board[0][0] == 'X', \"Cell (0, 0) should now contain 'X'.\"\n",
    "    \n",
    "    success_o = make_move(board, 1, 1, 'O')\n",
    "    assert success_o is True, \"Move should be successful for an empty cell.\"\n",
    "    assert board[1][1] == 'O', \"Cell (1, 1) should now contain 'O'.\""
   ]
  },
  {
   "cell_type": "code",
   "execution_count": 16,
   "metadata": {},
   "outputs": [],
   "source": [
    "def test_make_move_invalid():\n",
    "    board = initialize_board()\n",
    "    make_move(board, 0, 0, 'X')  # Place 'X' in (0, 0)\n",
    "    success = make_move(board, 0, 0, 'O')  # Attempt to place 'O' in (0, 0)\n",
    "    assert success is False, \"Move should fail as cell (0, 0) is already occupied.\"\n",
    "    assert board[0][0] == 'X', \"Cell (0, 0) should still contain 'X'.\""
   ]
  },
  {
   "cell_type": "code",
   "execution_count": 17,
   "metadata": {},
   "outputs": [],
   "source": [
    "def test_game_integration():\n",
    "    board = initialize_board()\n",
    "    assert board == [[' ', ' ', ' '], [' ', ' ', ' '], [' ', ' ', ' ']], \"Initial board should be empty.\"\n",
    "    \n",
    "    make_move(board, 0, 0, 'X')\n",
    "    make_move(board, 1, 1, 'O')\n",
    "    make_move(board, 0, 1, 'X')\n",
    "    make_move(board, 2, 2, 'O')\n",
    "    make_move(board, 0, 2, 'X')  # 'X' wins with this move\n",
    "    \n",
    "    winner = check_winner(board)\n",
    "    assert winner == 'X', \"Winner should be 'X'.\"\n",
    "    \n",
    "    board = reset_game()\n",
    "    assert board == [[' ', ' ', ' '], [' ', ' ', ' '], [' ', ' ', ' ']], \"Board should be reset and empty.\""
   ]
  },
  {
   "cell_type": "code",
   "execution_count": 18,
   "metadata": {},
   "outputs": [
    {
     "name": "stdout",
     "output_type": "stream",
     "text": [
      "Overwriting test_tictactoe.py\n"
     ]
    }
   ],
   "source": [
    "%%file test_tictactoe.py\n",
    "\n",
    "def initialize_board():\n",
    "    return [[' ' for _ in range(3)] for _ in range(3)]\n",
    "\n",
    "def make_move(board, row, col, player):\n",
    "    if board[row][col] == ' ':\n",
    "        board[row][col] = player\n",
    "        return True\n",
    "    return False\n",
    "\n",
    "def check_winner(board):\n",
    "    lines = board + list(zip(*board))\n",
    "    lines.append([board[i][i] for i in range(3)])\n",
    "    lines.append([board[i][2-i] for i in range(3)])\n",
    "    for line in lines:\n",
    "        if all(cell == 'X' for cell in line):\n",
    "            return 'X'\n",
    "        if all(cell == 'O' for cell in line):\n",
    "            return 'O'\n",
    "    if all(cell != ' ' for row in board for cell in row):\n",
    "        return 'Draw'\n",
    "    return None\n",
    "\n",
    "def reset_game():\n",
    "    return initialize_board()\n",
    "\n",
    "def test_initialize_board():\n",
    "    board = initialize_board()\n",
    "    assert len(board) == 3\n",
    "    assert all(len(row) == 3 for row in board)\n",
    "    assert all(cell == ' ' for row in board for cell in row)\n",
    "\n",
    "def test_make_move_valid():\n",
    "    board = initialize_board()\n",
    "    assert make_move(board, 0, 0, 'X')\n",
    "    assert board[0][0] == 'X'\n",
    "    assert make_move(board, 1, 1, 'O')\n",
    "    assert board[1][1] == 'O'\n",
    "\n",
    "def test_make_move_invalid():\n",
    "    board = initialize_board()\n",
    "    make_move(board, 0, 0, 'X')\n",
    "    assert not make_move(board, 0, 0, 'O')\n",
    "    assert board[0][0] == 'X'\n",
    "\n",
    "def test_game_integration():\n",
    "    board = initialize_board()\n",
    "    assert board == [[' ', ' ', ' '], [' ', ' ', ' '], [' ', ' ', ' ']]\n",
    "    make_move(board, 0, 0, 'X')\n",
    "    make_move(board, 1, 1, 'O')\n",
    "    make_move(board, 0, 1, 'X')\n",
    "    make_move(board, 2, 2, 'O')\n",
    "    make_move(board, 0, 2, 'X')\n",
    "    assert check_winner(board) == 'X'\n",
    "    board = reset_game()\n",
    "    assert board == [[' ', ' ', ' '], [' ', ' ', ' '], [' ', ' ', ' ']]"
   ]
  },
  {
   "cell_type": "markdown",
   "metadata": {},
   "source": [
    "## run all pytest"
   ]
  },
  {
   "cell_type": "code",
   "execution_count": 19,
   "metadata": {},
   "outputs": [
    {
     "name": "stdout",
     "output_type": "stream",
     "text": [
      "\u001b[1m============================= test session starts ==============================\u001b[0m\n",
      "platform darwin -- Python 3.8.3, pytest-5.4.3, py-1.9.0, pluggy-0.13.1 -- /Users/lanwang/opt/anaconda3/bin/python\n",
      "cachedir: .pytest_cache\n",
      "rootdir: /Users/lanwang/Documents/GitHub\n",
      "collected 4 items                                                              \u001b[0m\n",
      "\n",
      "test_tictactoe.py::test_initialize_board \u001b[32mPASSED\u001b[0m\u001b[32m                          [ 25%]\u001b[0m\n",
      "test_tictactoe.py::test_make_move_valid \u001b[32mPASSED\u001b[0m\u001b[32m                           [ 50%]\u001b[0m\n",
      "test_tictactoe.py::test_make_move_invalid \u001b[32mPASSED\u001b[0m\u001b[32m                         [ 75%]\u001b[0m\n",
      "test_tictactoe.py::test_game_integration \u001b[32mPASSED\u001b[0m\u001b[32m                          [100%]\u001b[0m\n",
      "\n",
      "\u001b[32m============================== \u001b[32m\u001b[1m4 passed\u001b[0m\u001b[32m in 0.01s\u001b[0m\u001b[32m ===============================\u001b[0m\n"
     ]
    }
   ],
   "source": [
    "!pytest test_tictactoe.py -vv"
   ]
  },
  {
   "cell_type": "markdown",
   "metadata": {},
   "source": [
    "# 2 Advance test"
   ]
  },
  {
   "cell_type": "code",
   "execution_count": 20,
   "metadata": {},
   "outputs": [],
   "source": [
    "#Define Game Functions\n",
    "def initialize_board():\n",
    "    \"\"\"Creates a 3x3 Tic-Tac-Toe board initialized with empty spaces.\"\"\"\n",
    "    return [[' ' for _ in range(3)] for _ in range(3)]\n",
    "\n",
    "def make_move(board, row, col, player):\n",
    "    \"\"\"\n",
    "    Places the player's symbol ('X' or 'O') on the board at the specified position.\n",
    "    \n",
    "    Args:\n",
    "        board (list): The current game board.\n",
    "        row (int): The row index (0-based).\n",
    "        col (int): The column index (0-based).\n",
    "        player (str): The player's symbol ('X' or 'O').\n",
    "\n",
    "    Returns:\n",
    "        bool: True if the move was successful, False otherwise.\n",
    "    \"\"\"\n",
    "    if 0 <= row < 3 and 0 <= col < 3:  # Check if indices are in bounds\n",
    "        if board[row][col] == ' ':\n",
    "            board[row][col] = player\n",
    "            return True\n",
    "    return False\n",
    "\n",
    "def check_winner(board):\n",
    "    lines = board + list(zip(*board))\n",
    "    lines.append([board[i][i] for i in range(3)])\n",
    "    lines.append([board[i][2-i] for i in range(3)])\n",
    "    for line in lines:\n",
    "        if all(cell == 'X' for cell in line):\n",
    "            return 'X'\n",
    "        if all(cell == 'O' for cell in line):\n",
    "            return 'O'\n",
    "    if all(cell != ' ' for row in board for cell in row):\n",
    "        return 'Draw'\n",
    "    return None\n",
    "\n",
    "def reset_game():\n",
    "    \"\"\"Resets the game by reinitializing the board.\"\"\"\n",
    "    return initialize_board()\n"
   ]
  },
  {
   "cell_type": "code",
   "execution_count": 21,
   "metadata": {},
   "outputs": [],
   "source": [
    "#ensures test independence by crease many new game board\n",
    "import pytest\n",
    "\n",
    "@pytest.fixture\n",
    "def fresh_board():\n",
    "    \"\"\"Fixture that provides a new game board for each test.\"\"\"\n",
    "    return initialize_board()"
   ]
  },
  {
   "cell_type": "code",
   "execution_count": 22,
   "metadata": {},
   "outputs": [],
   "source": [
    "@pytest.mark.parametrize(\"initial_board, row, col, player, expected_result, expected_board\", [\n",
    "    # Test1:Valid move on empty board\n",
    "    ([[' ', ' ', ' '], [' ', ' ', ' '], [' ', ' ', ' ']], 0, 0, 'X', True, [['X', ' ', ' '], [' ', ' ', ' '], [' ', ' ', ' ']]),\n",
    "    \n",
    "    # Test2:Move on an occupied cell\n",
    "    ([['X', ' ', ' '], [' ', ' ', ' '], [' ', ' ', ' ']], 0, 0, 'O', False, [['X', ' ', ' '], [' ', ' ', ' '], [' ', ' ', ' ']]),\n",
    "    \n",
    "    # Test3: Valid move on a partially filled board\n",
    "    ([['X', ' ', ' '], [' ', ' ', ' '], [' ', ' ', ' ']], 1, 1, 'O', True, [['X', ' ', ' '], [' ', 'O', ' '], [' ', ' ', ' ']]),\n",
    "    \n",
    "    # Test4: Out-of-bounds row index\n",
    "    ([['X', ' ', ' '], [' ', ' ', ' '], [' ', ' ', ' ']], 3, 0, 'X', False, [['X', ' ', ' '], [' ', ' ', ' '], [' ', ' ', ' ']]),\n",
    "    \n",
    "    # Test5: Out-of-bounds column index\n",
    "    ([['X', ' ', ' '], [' ', ' ', ' '], [' ', ' ', ' ']], 0, 3, 'X', False, [['X', ' ', ' '], [' ', ' ', ' '], [' ', ' ', ' ']]),\n",
    "    \n",
    "    # Test6: Negative indices\n",
    "    ([['X', ' ', ' '], [' ', ' ', ' '], [' ', ' ', ' ']], -1, 0, 'X', False, [['X', ' ', ' '], [' ', ' ', ' '], [' ', ' ', ' ']])\n",
    "])\n",
    "\n",
    "def test_make_move(initial_board, row, col, player, expected_result, expected_board):\n",
    "    \"\"\"\n",
    "    Parameterized test for make_move to check various scenarios.\n",
    "    Our Tests include: valid moves, attempts to move on occupied cells, \n",
    "    and out-of-bounds moves.\n",
    "    \"\"\"\n",
    "    result = make_move(initial_board, row, col, player)\n",
    "    assert result == expected_result, f\"Expected result {expected_result} but got {result}\"\n",
    "    assert initial_board == expected_board, \"Board state did not match expected configuration.\"\n"
   ]
  },
  {
   "cell_type": "code",
   "execution_count": 23,
   "metadata": {},
   "outputs": [
    {
     "name": "stdout",
     "output_type": "stream",
     "text": [
      "Overwriting test_tictactoe.py\n"
     ]
    }
   ],
   "source": [
    "%%file test_tictactoe.py\n",
    "\n",
    "import pytest\n",
    "\n",
    "def initialize_board():\n",
    "    return [[' ' for _ in range(3)] for _ in range(3)]\n",
    "\n",
    "def make_move(board, row, col, player):\n",
    "    if 0 <= row < 3 and 0 <= col < 3:\n",
    "        if board[row][col] == ' ':\n",
    "            board[row][col] = player\n",
    "            return True\n",
    "    return False\n",
    "\n",
    "def check_winner(board):\n",
    "    lines = board + list(zip(*board))\n",
    "    lines.append([board[i][i] for i in range(3)])\n",
    "    lines.append([board[i][2-i] for i in range(3)])\n",
    "    for line in lines:\n",
    "        if all(cell == 'X' for cell in line):\n",
    "            return 'X'\n",
    "        if all(cell == 'O' for cell in line):\n",
    "            return 'O'\n",
    "    if all(cell != ' ' for row in board for cell in row):\n",
    "        return 'Draw'\n",
    "    return None\n",
    "\n",
    "def reset_game():\n",
    "    return initialize_board()\n",
    "\n",
    "@pytest.fixture\n",
    "def fresh_board():\n",
    "    return initialize_board()\n",
    "\n",
    "@pytest.mark.parametrize(\"initial_board, row, col, player, expected_result, expected_board\", [\n",
    "    ([[' ', ' ', ' '], [' ', ' ', ' '], [' ', ' ', ' ']], 0, 0, 'X', True, [['X', ' ', ' '], [' ', ' ', ' '], [' ', ' ', ' ']]),\n",
    "    ([['X', ' ', ' '], [' ', ' ', ' '], [' ', ' ', ' ']], 0, 0, 'O', False, [['X', ' ', ' '], [' ', ' ', ' '], [' ', ' ', ' ']]),\n",
    "    ([['X', ' ', ' '], [' ', ' ', ' '], [' ', ' ', ' ']], 1, 1, 'O', True, [['X', ' ', ' '], [' ', 'O', ' '], [' ', ' ', ' ']]),\n",
    "    ([['X', ' ', ' '], [' ', ' ', ' '], [' ', ' ', ' ']], 3, 0, 'X', False, [['X', ' ', ' '], [' ', ' ', ' '], [' ', ' ', ' ']]),\n",
    "    ([['X', ' ', ' '], [' ', ' ', ' '], [' ', ' ', ' ']], 0, 3, 'X', False, [['X', ' ', ' '], [' ', ' ', ' '], [' ', ' ', ' ']]),\n",
    "    ([['X', ' ', ' '], [' ', ' ', ' '], [' ', ' ', ' ']], -1, 0, 'X', False, [['X', ' ', ' '], [' ', ' ', ' '], [' ', ' ', ' ']])\n",
    "])\n",
    "def test_make_move(initial_board, row, col, player, expected_result, expected_board):\n",
    "    result = make_move(initial_board, row, col, player)\n",
    "    assert result == expected_result\n",
    "    assert initial_board == expected_board"
   ]
  },
  {
   "cell_type": "code",
   "execution_count": 24,
   "metadata": {},
   "outputs": [
    {
     "name": "stdout",
     "output_type": "stream",
     "text": [
      "\u001b[1m============================= test session starts ==============================\u001b[0m\r\n",
      "platform darwin -- Python 3.8.3, pytest-5.4.3, py-1.9.0, pluggy-0.13.1 -- /Users/lanwang/opt/anaconda3/bin/python\r\n",
      "cachedir: .pytest_cache\r\n",
      "rootdir: /Users/lanwang/Documents/GitHub\r\n",
      "\u001b[1mcollecting ... \u001b[0m\u001b[1m\r",
      "collected 6 items                                                              \u001b[0m\r\n",
      "\r\n",
      "test_tictactoe.py::test_make_move[initial_board0-0-0-X-True-expected_board0] \u001b[32mPASSED\u001b[0m\u001b[32m [ 16%]\u001b[0m\r\n",
      "test_tictactoe.py::test_make_move[initial_board1-0-0-O-False-expected_board1] \u001b[32mPASSED\u001b[0m\u001b[32m [ 33%]\u001b[0m\r\n",
      "test_tictactoe.py::test_make_move[initial_board2-1-1-O-True-expected_board2] \u001b[32mPASSED\u001b[0m\u001b[32m [ 50%]\u001b[0m\r\n",
      "test_tictactoe.py::test_make_move[initial_board3-3-0-X-False-expected_board3] \u001b[32mPASSED\u001b[0m\u001b[32m [ 66%]\u001b[0m\r\n",
      "test_tictactoe.py::test_make_move[initial_board4-0-3-X-False-expected_board4] \u001b[32mPASSED\u001b[0m\u001b[32m [ 83%]\u001b[0m\r\n",
      "test_tictactoe.py::test_make_move[initial_board5--1-0-X-False-expected_board5] \u001b[32mPASSED\u001b[0m\u001b[32m [100%]\u001b[0m\r\n",
      "\r\n",
      "\u001b[32m============================== \u001b[32m\u001b[1m6 passed\u001b[0m\u001b[32m in 0.01s\u001b[0m\u001b[32m ===============================\u001b[0m\r\n"
     ]
    }
   ],
   "source": [
    "!pytest test_tictactoe.py -vv"
   ]
  },
  {
   "cell_type": "code",
   "execution_count": null,
   "metadata": {},
   "outputs": [],
   "source": []
  },
  {
   "cell_type": "code",
   "execution_count": null,
   "metadata": {},
   "outputs": [],
   "source": []
  }
 ],
 "metadata": {
  "kernelspec": {
   "display_name": "Python 3",
   "language": "python",
   "name": "python3"
  },
  "language_info": {
   "codemirror_mode": {
    "name": "ipython",
    "version": 3
   },
   "file_extension": ".py",
   "mimetype": "text/x-python",
   "name": "python",
   "nbconvert_exporter": "python",
   "pygments_lexer": "ipython3",
   "version": "3.8.3"
  }
 },
 "nbformat": 4,
 "nbformat_minor": 4
}
