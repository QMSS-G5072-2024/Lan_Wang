{
 "cells": [
  {
   "cell_type": "markdown",
   "id": "2932cc57-065b-46b3-be1d-201bd72bf944",
   "metadata": {},
   "source": [
    "# the API I choose is ExchangeRate-API:\n",
    "\n",
    "## Description: Provides exchange rate information between different currencies.\n",
    "## API Documentation: ExchangeRate-API\n",
    "### Currency conversion rates."
   ]
  },
  {
   "cell_type": "code",
   "execution_count": 10,
   "id": "d63aa347-145a-4852-9da9-3a43f4691ed6",
   "metadata": {},
   "outputs": [],
   "source": [
    "import requests\n",
    "import pandas as pd\n",
    "import json"
   ]
  },
  {
   "cell_type": "markdown",
   "id": "d4d40e6f-5d79-4361-86e6-636223530753",
   "metadata": {},
   "source": [
    "### 2 \n",
    "#### I chose the ExchangeRate-API (https://www.exchangerate-api.com/)\n",
    "#### Authentication: This API uses an API key for authentication. To get an API key, one can sign up on their website and create a free account"
   ]
  },
  {
   "cell_type": "code",
   "execution_count": 2,
   "id": "845f335c-8230-4096-993f-e416e3fd1174",
   "metadata": {},
   "outputs": [],
   "source": [
    "api_url = \"https://v6.exchangerate-api.com/v6/7651e08f0985ba494f03f643/latest/USD\""
   ]
  },
  {
   "cell_type": "markdown",
   "id": "2d28015f-3897-4e12-acc4-79fe74a8de22",
   "metadata": {},
   "source": [
    "### 3"
   ]
  },
  {
   "cell_type": "code",
   "execution_count": 3,
   "id": "83de4b4e-cef4-45fd-82c5-d1253758fd91",
   "metadata": {},
   "outputs": [],
   "source": [
    "# Send a GET request\n",
    "response = requests.get(api_url)"
   ]
  },
  {
   "cell_type": "code",
   "execution_count": 4,
   "id": "01d68d97-45b9-42cc-800e-3ab14c7560c6",
   "metadata": {},
   "outputs": [
    {
     "name": "stdout",
     "output_type": "stream",
     "text": [
      "Status Code: 200\n",
      "Response Type: application/json\n"
     ]
    }
   ],
   "source": [
    "# Display status code and content type\n",
    "print(\"Status Code:\", response.status_code)\n",
    "print(\"Response Type:\", response.headers.get(\"Content-Type\"))\n"
   ]
  },
  {
   "cell_type": "code",
   "execution_count": 11,
   "id": "a2caa338-1a15-4062-8a30-3739576b0a4b",
   "metadata": {},
   "outputs": [
    {
     "name": "stdout",
     "output_type": "stream",
     "text": [
      "Keys in the Response: dict_keys(['result', 'documentation', 'terms_of_use', 'time_last_update_unix', 'time_last_update_utc', 'time_next_update_unix', 'time_next_update_utc', 'base_code', 'conversion_rates'])\n",
      "Sample Exchange Rates: [('USD', 1), ('AED', 3.6725), ('AFN', 68.1435), ('ALL', 93.8178), ('AMD', 399.1986)]\n"
     ]
    }
   ],
   "source": [
    "# Parse the JSON data\n",
    "data = response.json()\n",
    "\n",
    "# Display the keys of the JSON response\n",
    "print(\"Keys in the Response:\", data.keys())\n",
    "\n",
    "# Extract and print a sample of exchange rates\n",
    "rates = data.get(\"conversion_rates\", {})\n",
    "print(\"Sample Exchange Rates:\", list(rates.items())[:5])  # Display first 5 rates\n"
   ]
  },
  {
   "cell_type": "markdown",
   "id": "49d5566e-7669-4402-bfce-82e1c27beefa",
   "metadata": {},
   "source": [
    "### 4 "
   ]
  },
  {
   "cell_type": "code",
   "execution_count": 6,
   "id": "79cb8cf8-9460-4eed-886a-44d2554a2e4f",
   "metadata": {},
   "outputs": [
    {
     "name": "stdout",
     "output_type": "stream",
     "text": [
      "  Currency  Exchange_Rate\n",
      "0      USD         1.0000\n",
      "1      AED         3.6725\n",
      "2      AFN        68.1435\n",
      "3      ALL        93.8178\n",
      "4      AMD       399.1986\n"
     ]
    }
   ],
   "source": [
    "import pandas as pd\n",
    "df = pd.DataFrame(rates.items(), columns=[\"Currency\", \"Exchange_Rate\"])\n",
    "\n",
    "# Display the first few rows\n",
    "print(df.head())"
   ]
  },
  {
   "cell_type": "code",
   "execution_count": 8,
   "id": "810181d8-603f-4f92-b035-51d86fd5ad1e",
   "metadata": {},
   "outputs": [
    {
     "name": "stdout",
     "output_type": "stream",
     "text": [
      "Data saved to data.csv\n"
     ]
    }
   ],
   "source": [
    "# Save to CSV\n",
    "df.to_csv(\"data.csv\", index=False)\n",
    "print(\"Data saved to data.csv\")"
   ]
  },
  {
   "cell_type": "markdown",
   "id": "3d939c76-b56f-416f-8cae-76cdc87162a5",
   "metadata": {},
   "source": [
    "### 5"
   ]
  },
  {
   "cell_type": "code",
   "execution_count": 12,
   "id": "4a4a921f-1ab2-4b13-bb3d-cb703497b6d9",
   "metadata": {},
   "outputs": [],
   "source": [
    "def exchange_rate_client(base_currency=\"USD\", save_to_csv=True, output_file=\"data.csv\"):\n",
    "    \"\"\"\n",
    "    A simple API client for fetching exchange rates.\n",
    "    Parameters:\n",
    "        base_currency (str): The base currency for exchange rates (default: 'USD').\n",
    "        save_to_csv (bool): Whether to save the resulting DataFrame to a CSV file (default: True).\n",
    "        output_file (str): The name of the CSV file to save the data (default: 'data.csv').\n",
    "\n",
    "    Returns:\n",
    "        pd.DataFrame: A DataFrame containing the exchange rates.\n",
    "    \"\"\"\n",
    "\n",
    "    api_key = \"7651e08f0985ba494f03f643\"  \n",
    "    base_url = \"https://v6.exchangerate-api.com/v6\"\n",
    "    url = f\"{base_url}/{api_key}/latest/{base_currency}\"\n",
    "    # Send the GET request\n",
    "    response = requests.get(url)\n",
    "    \n",
    "    # Check the response status\n",
    "    if response.status_code != 200:\n",
    "        raise ValueError(f\"Error: {response.status_code}. {response.text}\")\n",
    "    \n",
    "    # Parse the JSON response\n",
    "    data = response.json()\n",
    "    rates = data.get(\"conversion_rates\", {})\n",
    "    \n",
    "    # Convert to DataFrame\n",
    "    df = pd.DataFrame(rates.items(), columns=[\"Currency\", \"Exchange_Rate\"])\n",
    "    \n",
    "    # Save to CSV if requested\n",
    "    if save_to_csv:\n",
    "        df.to_csv(output_file, index=False)\n",
    "        print(f\"Data saved to {output_file}\")\n",
    "    return df\n",
    "    "
   ]
  },
  {
   "cell_type": "markdown",
   "id": "75ac598d-7f11-4891-9922-9757cb4189b8",
   "metadata": {},
   "source": [
    "##### Fetch Exchange Rates for USD"
   ]
  },
  {
   "cell_type": "code",
   "execution_count": 13,
   "id": "e17737b8-be64-46dd-97b8-797aded26f07",
   "metadata": {},
   "outputs": [
    {
     "name": "stdout",
     "output_type": "stream",
     "text": [
      "Data saved to data.csv\n",
      "  Currency  Exchange_Rate\n",
      "0      USD         1.0000\n",
      "1      AED         3.6725\n",
      "2      AFN        68.1435\n",
      "3      ALL        93.8178\n",
      "4      AMD       399.1986\n"
     ]
    }
   ],
   "source": [
    "df = exchange_rate_client()\n",
    "print(df.head())"
   ]
  },
  {
   "cell_type": "code",
   "execution_count": 14,
   "id": "f9062210-2910-4d14-bc9e-e5437ee031a5",
   "metadata": {},
   "outputs": [
    {
     "name": "stdout",
     "output_type": "stream",
     "text": [
      "Data saved to data.csv\n",
      "  Currency  Exchange_Rate\n",
      "0      EUR         1.0000\n",
      "1      AED         3.8601\n",
      "2      AFN        71.5464\n",
      "3      ALL        98.5033\n",
      "4      AMD       419.5847\n"
     ]
    }
   ],
   "source": [
    "# Test the function with a different base currency\n",
    "df_eur = exchange_rate_client(base_currency=\"EUR\")\n",
    "# Display the first few rows \n",
    "print(df_eur.head())"
   ]
  },
  {
   "cell_type": "code",
   "execution_count": 15,
   "id": "eaecb58f-5233-44cb-a6b3-e6f8fc9eac5d",
   "metadata": {},
   "outputs": [
    {
     "name": "stdout",
     "output_type": "stream",
     "text": [
      "  Currency  Exchange_Rate\n",
      "0      USD         1.0000\n",
      "1      AED         3.6725\n",
      "2      AFN        68.1435\n",
      "3      ALL        93.8178\n",
      "4      AMD       399.1986\n"
     ]
    }
   ],
   "source": [
    "# Test the function without saving to CSV\n",
    "df_no_csv = exchange_rate_client(save_to_csv=False)\n",
    "# Display the first few rows \n",
    "print(df_no_csv.head())"
   ]
  },
  {
   "cell_type": "code",
   "execution_count": 16,
   "id": "65eb66cd-b04f-45f9-abf1-21fc0e084005",
   "metadata": {
    "jupyter": {
     "source_hidden": true
    }
   },
   "outputs": [
    {
     "name": "stdout",
     "output_type": "stream",
     "text": [
      "Caught an error: Error: 404. {\"result\":\"error\",\"documentation\":\"https://www.exchangerate-api.com/docs\",\"terms-of-use\":\"https://www.exchangerate-api.com/terms\",\"error-type\":\"unsupported-code\"}\n"
     ]
    }
   ],
   "source": [
    "# Test with an invalid base currency\n",
    "try:\n",
    "    df_invalid = exchange_rate_client(base_currency=\"INVALID\")\n",
    "except ValueError as e:\n",
    "    print(f\"Caught an error: {e}\")"
   ]
  },
  {
   "cell_type": "code",
   "execution_count": null,
   "id": "6d202dd0-8653-4693-b8c3-8ecc0e9bef63",
   "metadata": {},
   "outputs": [],
   "source": []
  }
 ],
 "metadata": {
  "kernelspec": {
   "display_name": "Python 3 (ipykernel)",
   "language": "python",
   "name": "python3"
  },
  "language_info": {
   "codemirror_mode": {
    "name": "ipython",
    "version": 3
   },
   "file_extension": ".py",
   "mimetype": "text/x-python",
   "name": "python",
   "nbconvert_exporter": "python",
   "pygments_lexer": "ipython3",
   "version": "3.8.3"
  }
 },
 "nbformat": 4,
 "nbformat_minor": 5
}
