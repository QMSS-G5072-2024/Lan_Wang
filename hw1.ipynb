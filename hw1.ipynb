{
 "cells": [
  {
   "cell_type": "markdown",
   "metadata": {},
   "source": [
    "# 1 Create a Jupyter Notebook\n",
    "### My Favorite Data Science Blog\n",
    "I like [Earth Trekkers Blog](https://www.earthtrekkers.com/blog/) because it allows me know where to travel next.\n",
    "here is the logo of them\n",
    "![Earth Trekkers Logo](https://www.earthtrekkers.com/wp-content/uploads/2017/01/Earth-Trekkers-Favicon.png)"
   ]
  },
  {
   "cell_type": "markdown",
   "metadata": {},
   "source": [
    "# 2 Markdown quote\n",
    "\n",
    "> \"The only limit to our realization of tomorrow is our doubts of today.\"\n",
    "\n",
    "*— Franklin D. Roosevelt*"
   ]
  },
  {
   "cell_type": "markdown",
   "metadata": {},
   "source": [
    "#  Latex formula and plot\n",
    "The function we plotted above is:\n",
    "\n",
    "\\[\n",
    "y = x^2\n",
    "\\]"
   ]
  },
  {
   "cell_type": "code",
   "execution_count": 1,
   "metadata": {},
   "outputs": [
    {
     "data": {
      "image/png": "[encoded data removed]",
      "text/plain": [
       "<Figure size 576x432 with 1 Axes>"
      ]
     },
     "metadata": {
      "needs_background": "light"
     },
     "output_type": "display_data"
    }
   ],
   "source": [
    "import numpy as np\n",
    "import matplotlib.pyplot as plt\n",
    "\n",
    "# Define the series x and the non-linear function y\n",
    "x = np.arange(0, 1001)\n",
    "y = x ** 2  # Quadratic function y = x^2\n",
    "\n",
    "# Plotting the function\n",
    "plt.figure(figsize=(8, 6))\n",
    "plt.plot(x, y, label=r\"$y = x^2$\")\n",
    "plt.xlabel(\"x\")\n",
    "plt.ylabel(\"y\")\n",
    "plt.title(\"Plot of y = x^2\")\n",
    "plt.legend()\n",
    "plt.grid(True)\n",
    "plt.show()"
   ]
  },
  {
   "cell_type": "markdown",
   "metadata": {},
   "source": [
    "# 4. Markdown table\n",
    "\n",
    "| Python Package | GitHub Stars |\n",
    "|----------------|--------------|\n",
    "| Pandas         | 43.2k        |\n",
    "| NumPy          | 24.6k        |\n",
    "| Matplotlib     | 18.1k        |\n",
    "| Scikit-Learn   | 58.5k        |\n",
    "| TensorFlow     | 178k         |"
   ]
  },
  {
   "cell_type": "markdown",
   "metadata": {},
   "source": [
    "# 5"
   ]
  },
  {
   "cell_type": "code",
   "execution_count": 2,
   "metadata": {},
   "outputs": [
    {
     "name": "stdout",
     "output_type": "stream",
     "text": [
      "/Users/lanwang/Documents/GitHub\n",
      "Python 3.8.3\n"
     ]
    }
   ],
   "source": [
    "!pwd\n",
    "\n",
    "# default Python version\n",
    "!python --version"
   ]
  },
  {
   "cell_type": "markdown",
   "metadata": {},
   "source": [
    "# 6"
   ]
  },
  {
   "cell_type": "code",
   "execution_count": 3,
   "metadata": {},
   "outputs": [
    {
     "name": "stdout",
     "output_type": "stream",
     "text": [
      "The answer is 42\n"
     ]
    }
   ],
   "source": [
    "%run ./answer_script.py.ipynb"
   ]
  },
  {
   "cell_type": "code",
   "execution_count": null,
   "metadata": {},
   "outputs": [],
   "source": []
  }
 ],
 "metadata": {
  "kernelspec": {
   "display_name": "Python 3",
   "language": "python",
   "name": "python3"
  },
  "language_info": {
   "codemirror_mode": {
    "name": "ipython",
    "version": 3
   },
   "file_extension": ".py",
   "mimetype": "text/x-python",
   "name": "python",
   "nbconvert_exporter": "python",
   "pygments_lexer": "ipython3",
   "version": "3.8.3"
  }
 },
 "nbformat": 4,
 "nbformat_minor": 4
}
